{
  "nbformat": 4,
  "nbformat_minor": 0,
  "metadata": {
    "colab": {
      "provenance": [],
      "authorship_tag": "ABX9TyOyDm9aB1n1UXGVk3okv/4A",
      "include_colab_link": true
    },
    "kernelspec": {
      "name": "python3",
      "display_name": "Python 3"
    },
    "language_info": {
      "name": "python"
    }
  },
  "cells": [
    {
      "cell_type": "markdown",
      "metadata": {
        "id": "view-in-github",
        "colab_type": "text"
      },
      "source": [
        "<a href=\"https://colab.research.google.com/github/anandhuarjuna/Data-Science/blob/main/Chronic_heart_disease.ipynb\" target=\"_parent\"><img src=\"https://colab.research.google.com/assets/colab-badge.svg\" alt=\"Open In Colab\"/></a>"
      ]
    },
    {
      "cell_type": "code",
      "execution_count": null,
      "metadata": {
        "colab": {
          "base_uri": "https://localhost:8080/",
          "height": 480
        },
        "id": "nDe6UIiy9Mey",
        "outputId": "554916f1-bf6e-4e8c-a241-b6e8a93353bb"
      },
      "outputs": [
        {
          "output_type": "stream",
          "name": "stdout",
          "text": [
            "              precision    recall  f1-score   support\n",
            "\n",
            "           0       0.85      1.00      0.92      1085\n",
            "           1       0.00      0.00      0.00       187\n",
            "\n",
            "    accuracy                           0.85      1272\n",
            "   macro avg       0.43      0.50      0.46      1272\n",
            "weighted avg       0.73      0.85      0.78      1272\n",
            "\n",
            "85.22012578616352\n",
            "<sklearn.metrics._plot.confusion_matrix.ConfusionMatrixDisplay object at 0x7f94af647190>\n"
          ]
        },
        {
          "output_type": "display_data",
          "data": {
            "text/plain": [
              "<Figure size 432x288 with 2 Axes>"
            ],
            "image/png": "[encoded data removed]"
          },
          "metadata": {
            "needs_background": "light"
          }
        }
      ],
      "source": [
        "\n",
        "import pandas as pd\n",
        "df=pd.read_csv('/content/framingham.csv')\n",
        "df.dtypes\n",
        "df.isna().sum()\n",
        "df.drop(['education'],axis=1,inplace=True)\n",
        "df.isna().sum()\n",
        "x=df['cigsPerDay'].mode()[0]\n",
        "x\n",
        "df['cigsPerDay']=df['cigsPerDay'].fillna(x)\n",
        "df.isna().sum()\n",
        "df['BPMeds'].value_counts()\n",
        "x=df['BPMeds'].mode()[0]\n",
        "df['BPMeds']=df['BPMeds'].fillna(x)\n",
        "df.isna().sum()\n",
        "df['totChol'].value_counts()   #this is filled using mean as it has floating points\n",
        "y=df['totChol'].mean()\n",
        "df['totChol']=df['totChol'].fillna(y)\n",
        "df.isna().sum()\n",
        "df['BMI'].value_counts()\n",
        "df['BMI']=df['BMI'].fillna(df['BMI'].mean())\n",
        "df['heartRate'].value_counts()\n",
        "df['heartRate']=df['heartRate'].fillna(df['heartRate'].mode()[0])\n",
        "df['glucose'].value_counts()\n",
        "df['glucose']=df['glucose'].fillna(df['glucose'].mode()[0])\n",
        "df.isna().sum()\n",
        "df.shape\n",
        "X=df.iloc[:,:-1].values\n",
        "y=df.iloc[:,-1].values\n",
        "y\n",
        "from sklearn.model_selection import train_test_split\n",
        "X_train,X_test,y_train,y_test=train_test_split(X,y,test_size=.3,random_state=1)\n",
        "X_train.shape\n",
        "X_test.shape\n",
        "from sklearn.preprocessing import MinMaxScaler\n",
        "sc=MinMaxScaler()\n",
        "sc.fit(X_train)\n",
        "X_train_new=sc.transform(X_train)\n",
        "X_test_new=sc.transform(X_test)\n",
        "from sklearn.svm import SVC\n",
        "clf=SVC()\n",
        "clf.fit(X_train_new,y_train)\n",
        "y_pred=clf.predict(X_test_new)\n",
        "y_pred\n",
        "from sklearn.metrics import classification_report,accuracy_score,ConfusionMatrixDisplay\n",
        "print(classification_report(y_test,y_pred))\n",
        "print(accuracy_score(y_test,y_pred)*100)\n",
        "print(ConfusionMatrixDisplay.from_predictions(y_test,y_pred))"
      ]
    },
    {
      "cell_type": "code",
      "source": [],
      "metadata": {
        "id": "KLyu9-IACcwf"
      },
      "execution_count": null,
      "outputs": []
    }
  ]
}