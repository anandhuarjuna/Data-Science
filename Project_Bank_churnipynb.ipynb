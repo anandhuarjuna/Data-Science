{
  "nbformat": 4,
  "nbformat_minor": 0,
  "metadata": {
    "colab": {
      "provenance": [],
      "mount_file_id": "1jKW8UPc6F7VVwQvtADKScA-mFKGiEupg",
      "authorship_tag": "ABX9TyPLPVYkctGGKHY8fSYV6fzp",
      "include_colab_link": true
    },
    "kernelspec": {
      "name": "python3",
      "display_name": "Python 3"
    },
    "language_info": {
      "name": "python"
    }
  },
  "cells": [
    {
      "cell_type": "markdown",
      "metadata": {
        "id": "view-in-github",
        "colab_type": "text"
      },
      "source": [
        "<a href=\"https://colab.research.google.com/github/anandhuarjuna/Data-Science/blob/main/Project_Bank_churnipynb.ipynb\" target=\"_parent\"><img src=\"https://colab.research.google.com/assets/colab-badge.svg\" alt=\"Open In Colab\"/></a>"
      ]
    },
    {
      "cell_type": "markdown",
      "source": [
        "**About Dataset**\n",
        "\n",
        "This data set contains details of a bank's customers and the target variable is a binary variable reflecting the fact whether the customer left the bank (closed his account) or he continues to be a customer."
      ],
      "metadata": {
        "id": "cEkTruoCUBAi"
      }
    },
    {
      "cell_type": "markdown",
      "source": [
        "**Attribute Information**\n",
        "\n",
        "RowNumber ⏩ Specifies a row of data.\n",
        "\n",
        "CustomerId ⏩ Customer's code\n",
        "\n",
        "Surname ⏩ Customer's last name\n",
        "\n",
        "CreditScore ⏩ Customer's credit score\n",
        "\n",
        "Geography ⏩ Customer's location\n",
        "\n",
        "Gender ⏩ Customer's gender(Male/Female)\n",
        "\n",
        "Age ⏩ Customer's age\n",
        "\n",
        "Tenure ⏩ number/year of customer assets\n",
        "\n",
        "Balance ⏩ the amount customer have in the account\n",
        "\n",
        "NumOfProducts ⏩ Number of products used by customers\n",
        "\n",
        "HasCrCard ⏩ Credit card status(0=No credit card)\n",
        "\n",
        "IsActiveMember ⏩ Membership status(0=Non-active member)\n",
        "\n",
        "EstimatedSalary ⏩ Customer's salary\n",
        "\n",
        "Exited ⏩ Account closed/Not (0=Exited)\n"
      ],
      "metadata": {
        "id": "Kzy59oMe-aG7"
      }
    },
    {
      "cell_type": "markdown",
      "source": [
        "**Data Set Loaded**\n",
        "\n",
        "Bank customer dataset loaded using the Pandas library.\n",
        "A data frame (df) is created and customer data is saved into it.\n",
        "Using the head function, I printed the first five rows of dataframe df.\n"
      ],
      "metadata": {
        "id": "yY5fIMz8UuIW"
      }
    },
    {
      "cell_type": "code",
      "execution_count": null,
      "metadata": {
        "id": "hM9IpFVyxAwT",
        "colab": {
          "base_uri": "https://localhost:8080/",
          "height": 206
        },
        "outputId": "fa304f2f-c9fc-4bea-8172-06f36b4343e4"
      },
      "outputs": [
        {
          "output_type": "execute_result",
          "data": {
            "text/plain": [
              "   RowNumber  CustomerId   Surname  CreditScore Geography  Gender  Age  \\\n",
              "0          1    15634602  Hargrave          619    France  Female   42   \n",
              "1          2    15647311      Hill          608     Spain  Female   41   \n",
              "2          3    15619304      Onio          502    France  Female   42   \n",
              "3          4    15701354      Boni          699    France  Female   39   \n",
              "4          5    15737888  Mitchell          850     Spain  Female   43   \n",
              "\n",
              "   Tenure    Balance  NumOfProducts  HasCrCard  IsActiveMember  \\\n",
              "0       2       0.00              1          1               1   \n",
              "1       1   83807.86              1          0               1   \n",
              "2       8  159660.80              3          1               0   \n",
              "3       1       0.00              2          0               0   \n",
              "4       2  125510.82              1          1               1   \n",
              "\n",
              "   EstimatedSalary  Exited  \n",
              "0        101348.88       1  \n",
              "1        112542.58       0  \n",
              "2        113931.57       1  \n",
              "3         93826.63       0  \n",
              "4         79084.10       0  "
            ],
            "text/html": [
              "\n",
              "  <div id=\"df-0675140d-5f86-4307-b5e4-fa0fb6198c2f\">\n",
              "    <div class=\"colab-df-container\">\n",
              "      <div>\n",
              "<style scoped>\n",
              "    .dataframe tbody tr th:only-of-type {\n",
              "        vertical-align: middle;\n",
              "    }\n",
              "\n",
              "    .dataframe tbody tr th {\n",
              "        vertical-align: top;\n",
              "    }\n",
              "\n",
              "    .dataframe thead th {\n",
              "        text-align: right;\n",
              "    }\n",
              "</style>\n",
              "<table border=\"1\" class=\"dataframe\">\n",
              "  <thead>\n",
              "    <tr style=\"text-align: right;\">\n",
              "      <th></th>\n",
              "      <th>RowNumber</th>\n",
              "      <th>CustomerId</th>\n",
              "      <th>Surname</th>\n",
              "      <th>CreditScore</th>\n",
              "      <th>Geography</th>\n",
              "      <th>Gender</th>\n",
              "      <th>Age</th>\n",
              "      <th>Tenure</th>\n",
              "      <th>Balance</th>\n",
              "      <th>NumOfProducts</th>\n",
              "      <th>HasCrCard</th>\n",
              "      <th>IsActiveMember</th>\n",
              "      <th>EstimatedSalary</th>\n",
              "      <th>Exited</th>\n",
              "    </tr>\n",
              "  </thead>\n",
              "  <tbody>\n",
              "    <tr>\n",
              "      <th>0</th>\n",
              "      <td>1</td>\n",
              "      <td>15634602</td>\n",
              "      <td>Hargrave</td>\n",
              "      <td>619</td>\n",
              "      <td>France</td>\n",
              "      <td>Female</td>\n",
              "      <td>42</td>\n",
              "      <td>2</td>\n",
              "      <td>0.00</td>\n",
              "      <td>1</td>\n",
              "      <td>1</td>\n",
              "      <td>1</td>\n",
              "      <td>101348.88</td>\n",
              "      <td>1</td>\n",
              "    </tr>\n",
              "    <tr>\n",
              "      <th>1</th>\n",
              "      <td>2</td>\n",
              "      <td>15647311</td>\n",
              "      <td>Hill</td>\n",
              "      <td>608</td>\n",
              "      <td>Spain</td>\n",
              "      <td>Female</td>\n",
              "      <td>41</td>\n",
              "      <td>1</td>\n",
              "      <td>83807.86</td>\n",
              "      <td>1</td>\n",
              "      <td>0</td>\n",
              "      <td>1</td>\n",
              "      <td>112542.58</td>\n",
              "      <td>0</td>\n",
              "    </tr>\n",
              "    <tr>\n",
              "      <th>2</th>\n",
              "      <td>3</td>\n",
              "      <td>15619304</td>\n",
              "      <td>Onio</td>\n",
              "      <td>502</td>\n",
              "      <td>France</td>\n",
              "      <td>Female</td>\n",
              "      <td>42</td>\n",
              "      <td>8</td>\n",
              "      <td>159660.80</td>\n",
              "      <td>3</td>\n",
              "      <td>1</td>\n",
              "      <td>0</td>\n",
              "      <td>113931.57</td>\n",
              "      <td>1</td>\n",
              "    </tr>\n",
              "    <tr>\n",
              "      <th>3</th>\n",
              "      <td>4</td>\n",
              "      <td>15701354</td>\n",
              "      <td>Boni</td>\n",
              "      <td>699</td>\n",
              "      <td>France</td>\n",
              "      <td>Female</td>\n",
              "      <td>39</td>\n",
              "      <td>1</td>\n",
              "      <td>0.00</td>\n",
              "      <td>2</td>\n",
              "      <td>0</td>\n",
              "      <td>0</td>\n",
              "      <td>93826.63</td>\n",
              "      <td>0</td>\n",
              "    </tr>\n",
              "    <tr>\n",
              "      <th>4</th>\n",
              "      <td>5</td>\n",
              "      <td>15737888</td>\n",
              "      <td>Mitchell</td>\n",
              "      <td>850</td>\n",
              "      <td>Spain</td>\n",
              "      <td>Female</td>\n",
              "      <td>43</td>\n",
              "      <td>2</td>\n",
              "      <td>125510.82</td>\n",
              "      <td>1</td>\n",
              "      <td>1</td>\n",
              "      <td>1</td>\n",
              "      <td>79084.10</td>\n",
              "      <td>0</td>\n",
              "    </tr>\n",
              "  </tbody>\n",
              "</table>\n",
              "</div>\n",
              "      <button class=\"colab-df-convert\" onclick=\"convertToInteractive('df-0675140d-5f86-4307-b5e4-fa0fb6198c2f')\"\n",
              "              title=\"Convert this dataframe to an interactive table.\"\n",
              "              style=\"display:none;\">\n",
              "        \n",
              "  <svg xmlns=\"http://www.w3.org/2000/svg\" height=\"24px\"viewBox=\"0 0 24 24\"\n",
              "       width=\"24px\">\n",
              "    <path d=\"M0 0h24v24H0V0z\" fill=\"none\"/>\n",
              "    <path d=\"M18.56 5.44l.94 2.06.94-2.06 2.06-.94-2.06-.94-.94-2.06-.94 2.06-2.06.94zm-11 1L8.5 8.5l.94-2.06 2.06-.94-2.06-.94L8.5 2.5l-.94 2.06-2.06.94zm10 10l.94 2.06.94-2.06 2.06-.94-2.06-.94-.94-2.06-.94 2.06-2.06.94z\"/><path d=\"M17.41 7.96l-1.37-1.37c-.4-.4-.92-.59-1.43-.59-.52 0-1.04.2-1.43.59L10.3 9.45l-7.72 7.72c-.78.78-.78 2.05 0 2.83L4 21.41c.39.39.9.59 1.41.59.51 0 1.02-.2 1.41-.59l7.78-7.78 2.81-2.81c.8-.78.8-2.07 0-2.86zM5.41 20L4 18.59l7.72-7.72 1.47 1.35L5.41 20z\"/>\n",
              "  </svg>\n",
              "      </button>\n",
              "      \n",
              "  <style>\n",
              "    .colab-df-container {\n",
              "      display:flex;\n",
              "      flex-wrap:wrap;\n",
              "      gap: 12px;\n",
              "    }\n",
              "\n",
              "    .colab-df-convert {\n",
              "      background-color: #E8F0FE;\n",
              "      border: none;\n",
              "      border-radius: 50%;\n",
              "      cursor: pointer;\n",
              "      display: none;\n",
              "      fill: #1967D2;\n",
              "      height: 32px;\n",
              "      padding: 0 0 0 0;\n",
              "      width: 32px;\n",
              "    }\n",
              "\n",
              "    .colab-df-convert:hover {\n",
              "      background-color: #E2EBFA;\n",
              "      box-shadow: 0px 1px 2px rgba(60, 64, 67, 0.3), 0px 1px 3px 1px rgba(60, 64, 67, 0.15);\n",
              "      fill: #174EA6;\n",
              "    }\n",
              "\n",
              "    [theme=dark] .colab-df-convert {\n",
              "      background-color: #3B4455;\n",
              "      fill: #D2E3FC;\n",
              "    }\n",
              "\n",
              "    [theme=dark] .colab-df-convert:hover {\n",
              "      background-color: #434B5C;\n",
              "      box-shadow: 0px 1px 3px 1px rgba(0, 0, 0, 0.15);\n",
              "      filter: drop-shadow(0px 1px 2px rgba(0, 0, 0, 0.3));\n",
              "      fill: #FFFFFF;\n",
              "    }\n",
              "  </style>\n",
              "\n",
              "      <script>\n",
              "        const buttonEl =\n",
              "          document.querySelector('#df-0675140d-5f86-4307-b5e4-fa0fb6198c2f button.colab-df-convert');\n",
              "        buttonEl.style.display =\n",
              "          google.colab.kernel.accessAllowed ? 'block' : 'none';\n",
              "\n",
              "        async function convertToInteractive(key) {\n",
              "          const element = document.querySelector('#df-0675140d-5f86-4307-b5e4-fa0fb6198c2f');\n",
              "          const dataTable =\n",
              "            await google.colab.kernel.invokeFunction('convertToInteractive',\n",
              "                                                     [key], {});\n",
              "          if (!dataTable) return;\n",
              "\n",
              "          const docLinkHtml = 'Like what you see? Visit the ' +\n",
              "            '<a target=\"_blank\" href=https://colab.research.google.com/notebooks/data_table.ipynb>data table notebook</a>'\n",
              "            + ' to learn more about interactive tables.';\n",
              "          element.innerHTML = '';\n",
              "          dataTable['output_type'] = 'display_data';\n",
              "          await google.colab.output.renderOutput(dataTable, element);\n",
              "          const docLink = document.createElement('div');\n",
              "          docLink.innerHTML = docLinkHtml;\n",
              "          element.appendChild(docLink);\n",
              "        }\n",
              "      </script>\n",
              "    </div>\n",
              "  </div>\n",
              "  "
            ]
          },
          "metadata": {},
          "execution_count": 1
        }
      ],
      "source": [
        "import pandas as pd\n",
        "df=pd.read_csv('/content/drive/MyDrive/Data Set-Luminar/Churn_Modelling.csv')\n",
        "df.head()"
      ]
    },
    {
      "cell_type": "markdown",
      "source": [
        "**Irrelvant columns are removed**\n",
        "\n",
        "Here the columns such as 'RowNumber','CustomerId','Surname' have no influence on data classification and prediction and hence these columns were dropped from data fram df"
      ],
      "metadata": {
        "id": "RqMWSTn8UAO3"
      }
    },
    {
      "cell_type": "markdown",
      "source": [
        "\n"
      ],
      "metadata": {
        "id": "ouD-0iLmzbqM"
      }
    },
    {
      "cell_type": "code",
      "source": [
        "df.drop(['RowNumber','CustomerId','Surname'],axis=1,inplace=True)\n",
        "df"
      ],
      "metadata": {
        "id": "oQxEwRKaxD7g",
        "colab": {
          "base_uri": "https://localhost:8080/",
          "height": 423
        },
        "outputId": "1099e9a6-70ca-4a8e-de06-e0365cc604b8"
      },
      "execution_count": null,
      "outputs": [
        {
          "output_type": "execute_result",
          "data": {
            "text/plain": [
              "      CreditScore Geography  Gender  Age  Tenure    Balance  NumOfProducts  \\\n",
              "0             619    France  Female   42       2       0.00              1   \n",
              "1             608     Spain  Female   41       1   83807.86              1   \n",
              "2             502    France  Female   42       8  159660.80              3   \n",
              "3             699    France  Female   39       1       0.00              2   \n",
              "4             850     Spain  Female   43       2  125510.82              1   \n",
              "...           ...       ...     ...  ...     ...        ...            ...   \n",
              "9995          771    France    Male   39       5       0.00              2   \n",
              "9996          516    France    Male   35      10   57369.61              1   \n",
              "9997          709    France  Female   36       7       0.00              1   \n",
              "9998          772   Germany    Male   42       3   75075.31              2   \n",
              "9999          792    France  Female   28       4  130142.79              1   \n",
              "\n",
              "      HasCrCard  IsActiveMember  EstimatedSalary  Exited  \n",
              "0             1               1        101348.88       1  \n",
              "1             0               1        112542.58       0  \n",
              "2             1               0        113931.57       1  \n",
              "3             0               0         93826.63       0  \n",
              "4             1               1         79084.10       0  \n",
              "...         ...             ...              ...     ...  \n",
              "9995          1               0         96270.64       0  \n",
              "9996          1               1        101699.77       0  \n",
              "9997          0               1         42085.58       1  \n",
              "9998          1               0         92888.52       1  \n",
              "9999          1               0         38190.78       0  \n",
              "\n",
              "[10000 rows x 11 columns]"
            ],
            "text/html": [
              "\n",
              "  <div id=\"df-cf02b903-8583-4c8e-a131-7b52d9d4abf6\">\n",
              "    <div class=\"colab-df-container\">\n",
              "      <div>\n",
              "<style scoped>\n",
              "    .dataframe tbody tr th:only-of-type {\n",
              "        vertical-align: middle;\n",
              "    }\n",
              "\n",
              "    .dataframe tbody tr th {\n",
              "        vertical-align: top;\n",
              "    }\n",
              "\n",
              "    .dataframe thead th {\n",
              "        text-align: right;\n",
              "    }\n",
              "</style>\n",
              "<table border=\"1\" class=\"dataframe\">\n",
              "  <thead>\n",
              "    <tr style=\"text-align: right;\">\n",
              "      <th></th>\n",
              "      <th>CreditScore</th>\n",
              "      <th>Geography</th>\n",
              "      <th>Gender</th>\n",
              "      <th>Age</th>\n",
              "      <th>Tenure</th>\n",
              "      <th>Balance</th>\n",
              "      <th>NumOfProducts</th>\n",
              "      <th>HasCrCard</th>\n",
              "      <th>IsActiveMember</th>\n",
              "      <th>EstimatedSalary</th>\n",
              "      <th>Exited</th>\n",
              "    </tr>\n",
              "  </thead>\n",
              "  <tbody>\n",
              "    <tr>\n",
              "      <th>0</th>\n",
              "      <td>619</td>\n",
              "      <td>France</td>\n",
              "      <td>Female</td>\n",
              "      <td>42</td>\n",
              "      <td>2</td>\n",
              "      <td>0.00</td>\n",
              "      <td>1</td>\n",
              "      <td>1</td>\n",
              "      <td>1</td>\n",
              "      <td>101348.88</td>\n",
              "      <td>1</td>\n",
              "    </tr>\n",
              "    <tr>\n",
              "      <th>1</th>\n",
              "      <td>608</td>\n",
              "      <td>Spain</td>\n",
              "      <td>Female</td>\n",
              "      <td>41</td>\n",
              "      <td>1</td>\n",
              "      <td>83807.86</td>\n",
              "      <td>1</td>\n",
              "      <td>0</td>\n",
              "      <td>1</td>\n",
              "      <td>112542.58</td>\n",
              "      <td>0</td>\n",
              "    </tr>\n",
              "    <tr>\n",
              "      <th>2</th>\n",
              "      <td>502</td>\n",
              "      <td>France</td>\n",
              "      <td>Female</td>\n",
              "      <td>42</td>\n",
              "      <td>8</td>\n",
              "      <td>159660.80</td>\n",
              "      <td>3</td>\n",
              "      <td>1</td>\n",
              "      <td>0</td>\n",
              "      <td>113931.57</td>\n",
              "      <td>1</td>\n",
              "    </tr>\n",
              "    <tr>\n",
              "      <th>3</th>\n",
              "      <td>699</td>\n",
              "      <td>France</td>\n",
              "      <td>Female</td>\n",
              "      <td>39</td>\n",
              "      <td>1</td>\n",
              "      <td>0.00</td>\n",
              "      <td>2</td>\n",
              "      <td>0</td>\n",
              "      <td>0</td>\n",
              "      <td>93826.63</td>\n",
              "      <td>0</td>\n",
              "    </tr>\n",
              "    <tr>\n",
              "      <th>4</th>\n",
              "      <td>850</td>\n",
              "      <td>Spain</td>\n",
              "      <td>Female</td>\n",
              "      <td>43</td>\n",
              "      <td>2</td>\n",
              "      <td>125510.82</td>\n",
              "      <td>1</td>\n",
              "      <td>1</td>\n",
              "      <td>1</td>\n",
              "      <td>79084.10</td>\n",
              "      <td>0</td>\n",
              "    </tr>\n",
              "    <tr>\n",
              "      <th>...</th>\n",
              "      <td>...</td>\n",
              "      <td>...</td>\n",
              "      <td>...</td>\n",
              "      <td>...</td>\n",
              "      <td>...</td>\n",
              "      <td>...</td>\n",
              "      <td>...</td>\n",
              "      <td>...</td>\n",
              "      <td>...</td>\n",
              "      <td>...</td>\n",
              "      <td>...</td>\n",
              "    </tr>\n",
              "    <tr>\n",
              "      <th>9995</th>\n",
              "      <td>771</td>\n",
              "      <td>France</td>\n",
              "      <td>Male</td>\n",
              "      <td>39</td>\n",
              "      <td>5</td>\n",
              "      <td>0.00</td>\n",
              "      <td>2</td>\n",
              "      <td>1</td>\n",
              "      <td>0</td>\n",
              "      <td>96270.64</td>\n",
              "      <td>0</td>\n",
              "    </tr>\n",
              "    <tr>\n",
              "      <th>9996</th>\n",
              "      <td>516</td>\n",
              "      <td>France</td>\n",
              "      <td>Male</td>\n",
              "      <td>35</td>\n",
              "      <td>10</td>\n",
              "      <td>57369.61</td>\n",
              "      <td>1</td>\n",
              "      <td>1</td>\n",
              "      <td>1</td>\n",
              "      <td>101699.77</td>\n",
              "      <td>0</td>\n",
              "    </tr>\n",
              "    <tr>\n",
              "      <th>9997</th>\n",
              "      <td>709</td>\n",
              "      <td>France</td>\n",
              "      <td>Female</td>\n",
              "      <td>36</td>\n",
              "      <td>7</td>\n",
              "      <td>0.00</td>\n",
              "      <td>1</td>\n",
              "      <td>0</td>\n",
              "      <td>1</td>\n",
              "      <td>42085.58</td>\n",
              "      <td>1</td>\n",
              "    </tr>\n",
              "    <tr>\n",
              "      <th>9998</th>\n",
              "      <td>772</td>\n",
              "      <td>Germany</td>\n",
              "      <td>Male</td>\n",
              "      <td>42</td>\n",
              "      <td>3</td>\n",
              "      <td>75075.31</td>\n",
              "      <td>2</td>\n",
              "      <td>1</td>\n",
              "      <td>0</td>\n",
              "      <td>92888.52</td>\n",
              "      <td>1</td>\n",
              "    </tr>\n",
              "    <tr>\n",
              "      <th>9999</th>\n",
              "      <td>792</td>\n",
              "      <td>France</td>\n",
              "      <td>Female</td>\n",
              "      <td>28</td>\n",
              "      <td>4</td>\n",
              "      <td>130142.79</td>\n",
              "      <td>1</td>\n",
              "      <td>1</td>\n",
              "      <td>0</td>\n",
              "      <td>38190.78</td>\n",
              "      <td>0</td>\n",
              "    </tr>\n",
              "  </tbody>\n",
              "</table>\n",
              "<p>10000 rows × 11 columns</p>\n",
              "</div>\n",
              "      <button class=\"colab-df-convert\" onclick=\"convertToInteractive('df-cf02b903-8583-4c8e-a131-7b52d9d4abf6')\"\n",
              "              title=\"Convert this dataframe to an interactive table.\"\n",
              "              style=\"display:none;\">\n",
              "        \n",
              "  <svg xmlns=\"http://www.w3.org/2000/svg\" height=\"24px\"viewBox=\"0 0 24 24\"\n",
              "       width=\"24px\">\n",
              "    <path d=\"M0 0h24v24H0V0z\" fill=\"none\"/>\n",
              "    <path d=\"M18.56 5.44l.94 2.06.94-2.06 2.06-.94-2.06-.94-.94-2.06-.94 2.06-2.06.94zm-11 1L8.5 8.5l.94-2.06 2.06-.94-2.06-.94L8.5 2.5l-.94 2.06-2.06.94zm10 10l.94 2.06.94-2.06 2.06-.94-2.06-.94-.94-2.06-.94 2.06-2.06.94z\"/><path d=\"M17.41 7.96l-1.37-1.37c-.4-.4-.92-.59-1.43-.59-.52 0-1.04.2-1.43.59L10.3 9.45l-7.72 7.72c-.78.78-.78 2.05 0 2.83L4 21.41c.39.39.9.59 1.41.59.51 0 1.02-.2 1.41-.59l7.78-7.78 2.81-2.81c.8-.78.8-2.07 0-2.86zM5.41 20L4 18.59l7.72-7.72 1.47 1.35L5.41 20z\"/>\n",
              "  </svg>\n",
              "      </button>\n",
              "      \n",
              "  <style>\n",
              "    .colab-df-container {\n",
              "      display:flex;\n",
              "      flex-wrap:wrap;\n",
              "      gap: 12px;\n",
              "    }\n",
              "\n",
              "    .colab-df-convert {\n",
              "      background-color: #E8F0FE;\n",
              "      border: none;\n",
              "      border-radius: 50%;\n",
              "      cursor: pointer;\n",
              "      display: none;\n",
              "      fill: #1967D2;\n",
              "      height: 32px;\n",
              "      padding: 0 0 0 0;\n",
              "      width: 32px;\n",
              "    }\n",
              "\n",
              "    .colab-df-convert:hover {\n",
              "      background-color: #E2EBFA;\n",
              "      box-shadow: 0px 1px 2px rgba(60, 64, 67, 0.3), 0px 1px 3px 1px rgba(60, 64, 67, 0.15);\n",
              "      fill: #174EA6;\n",
              "    }\n",
              "\n",
              "    [theme=dark] .colab-df-convert {\n",
              "      background-color: #3B4455;\n",
              "      fill: #D2E3FC;\n",
              "    }\n",
              "\n",
              "    [theme=dark] .colab-df-convert:hover {\n",
              "      background-color: #434B5C;\n",
              "      box-shadow: 0px 1px 3px 1px rgba(0, 0, 0, 0.15);\n",
              "      filter: drop-shadow(0px 1px 2px rgba(0, 0, 0, 0.3));\n",
              "      fill: #FFFFFF;\n",
              "    }\n",
              "  </style>\n",
              "\n",
              "      <script>\n",
              "        const buttonEl =\n",
              "          document.querySelector('#df-cf02b903-8583-4c8e-a131-7b52d9d4abf6 button.colab-df-convert');\n",
              "        buttonEl.style.display =\n",
              "          google.colab.kernel.accessAllowed ? 'block' : 'none';\n",
              "\n",
              "        async function convertToInteractive(key) {\n",
              "          const element = document.querySelector('#df-cf02b903-8583-4c8e-a131-7b52d9d4abf6');\n",
              "          const dataTable =\n",
              "            await google.colab.kernel.invokeFunction('convertToInteractive',\n",
              "                                                     [key], {});\n",
              "          if (!dataTable) return;\n",
              "\n",
              "          const docLinkHtml = 'Like what you see? Visit the ' +\n",
              "            '<a target=\"_blank\" href=https://colab.research.google.com/notebooks/data_table.ipynb>data table notebook</a>'\n",
              "            + ' to learn more about interactive tables.';\n",
              "          element.innerHTML = '';\n",
              "          dataTable['output_type'] = 'display_data';\n",
              "          await google.colab.output.renderOutput(dataTable, element);\n",
              "          const docLink = document.createElement('div');\n",
              "          docLink.innerHTML = docLinkHtml;\n",
              "          element.appendChild(docLink);\n",
              "        }\n",
              "      </script>\n",
              "    </div>\n",
              "  </div>\n",
              "  "
            ]
          },
          "metadata": {},
          "execution_count": 2
        }
      ]
    },
    {
      "cell_type": "code",
      "source": [
        "import seaborn as sns\n",
        "import matplotlib.pyplot as plt\n",
        "sns.countplot(df['Gender'])\n",
        "#Here Male: 1 & Female: 0"
      ],
      "metadata": {
        "colab": {
          "base_uri": "https://localhost:8080/",
          "height": 354
        },
        "id": "1irAwAzZ3n6E",
        "outputId": "c42f90bf-f79b-45cc-a417-f73bd269936d"
      },
      "execution_count": null,
      "outputs": [
        {
          "output_type": "stream",
          "name": "stderr",
          "text": [
            "/usr/local/lib/python3.8/dist-packages/seaborn/_decorators.py:36: FutureWarning: Pass the following variable as a keyword arg: x. From version 0.12, the only valid positional argument will be `data`, and passing other arguments without an explicit keyword will result in an error or misinterpretation.\n",
            "  warnings.warn(\n"
          ]
        },
        {
          "output_type": "execute_result",
          "data": {
            "text/plain": [
              "<matplotlib.axes._subplots.AxesSubplot at 0x7f9d6f1b8e80>"
            ]
          },
          "metadata": {},
          "execution_count": 3
        },
        {
          "output_type": "display_data",
          "data": {
            "text/plain": [
              "<Figure size 432x288 with 1 Axes>"
            ],
            "image/png": "[encoded data removed]"
          },
          "metadata": {
            "needs_background": "light"
          }
        }
      ]
    },
    {
      "cell_type": "code",
      "source": [
        "sns.regplot(x='Exited',y='Age',data=df)"
      ],
      "metadata": {
        "id": "pi4Tz4zsN3FL"
      },
      "execution_count": null,
      "outputs": []
    },
    {
      "cell_type": "code",
      "source": [
        "plt.figure(figsize=(30,5))\n",
        "sns.countplot(df['Age'])"
      ],
      "metadata": {
        "colab": {
          "base_uri": "https://localhost:8080/",
          "height": 351
        },
        "id": "86xY8rqw3v5J",
        "outputId": "3e0419c4-6586-477b-f179-5df2d82f32e4"
      },
      "execution_count": null,
      "outputs": [
        {
          "output_type": "stream",
          "name": "stderr",
          "text": [
            "/usr/local/lib/python3.8/dist-packages/seaborn/_decorators.py:36: FutureWarning: Pass the following variable as a keyword arg: x. From version 0.12, the only valid positional argument will be `data`, and passing other arguments without an explicit keyword will result in an error or misinterpretation.\n",
            "  warnings.warn(\n"
          ]
        },
        {
          "output_type": "execute_result",
          "data": {
            "text/plain": [
              "<matplotlib.axes._subplots.AxesSubplot at 0x7f9d7eb5cd30>"
            ]
          },
          "metadata": {},
          "execution_count": 5
        },
        {
          "output_type": "display_data",
          "data": {
            "text/plain": [
              "<Figure size 2160x360 with 1 Axes>"
            ],
            "image/png": "[encoded data removed]"
          },
          "metadata": {
            "needs_background": "light"
          }
        }
      ]
    },
    {
      "cell_type": "code",
      "source": [
        "plt.figure(figsize=(6,6))\n",
        "sns.countplot(df['Geography'])"
      ],
      "metadata": {
        "colab": {
          "base_uri": "https://localhost:8080/",
          "height": 463
        },
        "id": "EwwBN6P94K4x",
        "outputId": "3aabffe5-9d4e-43fa-bff3-efa1641b1ea3"
      },
      "execution_count": null,
      "outputs": [
        {
          "output_type": "stream",
          "name": "stderr",
          "text": [
            "/usr/local/lib/python3.8/dist-packages/seaborn/_decorators.py:36: FutureWarning: Pass the following variable as a keyword arg: x. From version 0.12, the only valid positional argument will be `data`, and passing other arguments without an explicit keyword will result in an error or misinterpretation.\n",
            "  warnings.warn(\n"
          ]
        },
        {
          "output_type": "execute_result",
          "data": {
            "text/plain": [
              "<matplotlib.axes._subplots.AxesSubplot at 0x7f9d6c27bb20>"
            ]
          },
          "metadata": {},
          "execution_count": 6
        },
        {
          "output_type": "display_data",
          "data": {
            "text/plain": [
              "<Figure size 432x432 with 1 Axes>"
            ],
            "image/png": "[encoded data removed]"
          },
          "metadata": {
            "needs_background": "light"
          }
        }
      ]
    },
    {
      "cell_type": "code",
      "source": [
        "import warnings\n",
        "warnings.filterwarnings('ignore')\n",
        "for i in df.columns:\n",
        "  plt.hist(df[i])\n",
        "  plt.xlabel(i)\n",
        "  plt.ylabel('Frequency')\n",
        "  plt.show()"
      ],
      "metadata": {
        "colab": {
          "base_uri": "https://localhost:8080/",
          "height": 1000
        },
        "id": "aJaYa5Y6EhRb",
        "outputId": "e2aae0d8-a1a2-4aad-9498-ab06b6e8490b"
      },
      "execution_count": null,
      "outputs": [
        {
          "output_type": "display_data",
          "data": {
            "text/plain": [
              "<Figure size 432x288 with 1 Axes>"
            ],
            "image/png": "[encoded data removed]"
          },
          "metadata": {
            "needs_background": "light"
          }
        },
        {
          "output_type": "display_data",
          "data": {
            "text/plain": [
              "<Figure size 432x288 with 1 Axes>"
            ],
            "image/png": "[encoded data removed]"
          },
          "metadata": {
            "needs_background": "light"
          }
        },
        {
          "output_type": "display_data",
          "data": {
            "text/plain": [
              "<Figure size 432x288 with 1 Axes>"
            ],
            "image/png": "[encoded data removed]"
          },
          "metadata": {
            "needs_background": "light"
          }
        },
        {
          "output_type": "display_data",
          "data": {
            "text/plain": [
              "<Figure size 432x288 with 1 Axes>"
            ],
            "image/png": "[encoded data removed]"
          },
          "metadata": {
            "needs_background": "light"
          }
        },
        {
          "output_type": "display_data",
          "data": {
            "text/plain": [
              "<Figure size 432x288 with 1 Axes>"
            ],
            "image/png": "[encoded data removed]"
          },
          "metadata": {
            "needs_background": "light"
          }
        },
        {
          "output_type": "display_data",
          "data": {
            "text/plain": [
              "<Figure size 432x288 with 1 Axes>"
            ],
            "image/png": "[encoded data removed]"
          },
          "metadata": {
            "needs_background": "light"
          }
        },
        {
          "output_type": "display_data",
          "data": {
            "text/plain": [
              "<Figure size 432x288 with 1 Axes>"
            ],
            "image/png": "[encoded data removed]"
          },
          "metadata": {
            "needs_background": "light"
          }
        },
        {
          "output_type": "display_data",
          "data": {
            "text/plain": [
              "<Figure size 432x288 with 1 Axes>"
            ],
            "image/png": "[encoded data removed]"
          },
          "metadata": {
            "needs_background": "light"
          }
        },
        {
          "output_type": "display_data",
          "data": {
            "text/plain": [
              "<Figure size 432x288 with 1 Axes>"
            ],
            "image/png": "[encoded data removed]"
          },
          "metadata": {
            "needs_background": "light"
          }
        },
        {
          "output_type": "display_data",
          "data": {
            "text/plain": [
              "<Figure size 432x288 with 1 Axes>"
            ],
            "image/png": "[encoded data removed]"
          },
          "metadata": {
            "needs_background": "light"
          }
        },
        {
          "output_type": "display_data",
          "data": {
            "text/plain": [
              "<Figure size 432x288 with 1 Axes>"
            ],
            "image/png": "[encoded data removed]"
          },
          "metadata": {
            "needs_background": "light"
          }
        }
      ]
    },
    {
      "cell_type": "markdown",
      "source": [
        "**Null value check**\n",
        "\n",
        "\n",
        "1.   I checked the data df for null values.\n",
        "2.   In dataframe df, no null values were reported. "
      ],
      "metadata": {
        "id": "TGZKSQzYW4q9"
      }
    },
    {
      "cell_type": "code",
      "source": [
        "df.isna().sum()"
      ],
      "metadata": {
        "id": "zquCEW1_xHRh",
        "colab": {
          "base_uri": "https://localhost:8080/"
        },
        "outputId": "65a55904-d98e-4de3-b21d-13f405b1937e"
      },
      "execution_count": null,
      "outputs": [
        {
          "output_type": "execute_result",
          "data": {
            "text/plain": [
              "CreditScore        0\n",
              "Geography          0\n",
              "Gender             0\n",
              "Age                0\n",
              "Tenure             0\n",
              "Balance            0\n",
              "NumOfProducts      0\n",
              "HasCrCard          0\n",
              "IsActiveMember     0\n",
              "EstimatedSalary    0\n",
              "Exited             0\n",
              "dtype: int64"
            ]
          },
          "metadata": {},
          "execution_count": 8
        }
      ]
    },
    {
      "cell_type": "markdown",
      "source": [
        "**Data Type check**\n",
        "\n",
        "1. All the data types in df are in int/float format."
      ],
      "metadata": {
        "id": "-MVoY9MNW9ZQ"
      }
    },
    {
      "cell_type": "code",
      "source": [
        "df.dtypes"
      ],
      "metadata": {
        "id": "ELzHj6iqxJyl",
        "colab": {
          "base_uri": "https://localhost:8080/"
        },
        "outputId": "9add303a-e64c-469d-b84d-2b5bf8d5eea1"
      },
      "execution_count": null,
      "outputs": [
        {
          "output_type": "execute_result",
          "data": {
            "text/plain": [
              "CreditScore          int64\n",
              "Geography           object\n",
              "Gender              object\n",
              "Age                  int64\n",
              "Tenure               int64\n",
              "Balance            float64\n",
              "NumOfProducts        int64\n",
              "HasCrCard            int64\n",
              "IsActiveMember       int64\n",
              "EstimatedSalary    float64\n",
              "Exited               int64\n",
              "dtype: object"
            ]
          },
          "metadata": {},
          "execution_count": 9
        }
      ]
    },
    {
      "cell_type": "code",
      "source": [
        "df.head(10)"
      ],
      "metadata": {
        "colab": {
          "base_uri": "https://localhost:8080/",
          "height": 363
        },
        "id": "J8j6AFQ_4bV8",
        "outputId": "f345cd37-9b55-4cf6-ea4c-899ca38c37e9"
      },
      "execution_count": null,
      "outputs": [
        {
          "output_type": "execute_result",
          "data": {
            "text/plain": [
              "   CreditScore Geography  Gender  Age  Tenure    Balance  NumOfProducts  \\\n",
              "0          619    France  Female   42       2       0.00              1   \n",
              "1          608     Spain  Female   41       1   83807.86              1   \n",
              "2          502    France  Female   42       8  159660.80              3   \n",
              "3          699    France  Female   39       1       0.00              2   \n",
              "4          850     Spain  Female   43       2  125510.82              1   \n",
              "5          645     Spain    Male   44       8  113755.78              2   \n",
              "6          822    France    Male   50       7       0.00              2   \n",
              "7          376   Germany  Female   29       4  115046.74              4   \n",
              "8          501    France    Male   44       4  142051.07              2   \n",
              "9          684    France    Male   27       2  134603.88              1   \n",
              "\n",
              "   HasCrCard  IsActiveMember  EstimatedSalary  Exited  \n",
              "0          1               1        101348.88       1  \n",
              "1          0               1        112542.58       0  \n",
              "2          1               0        113931.57       1  \n",
              "3          0               0         93826.63       0  \n",
              "4          1               1         79084.10       0  \n",
              "5          1               0        149756.71       1  \n",
              "6          1               1         10062.80       0  \n",
              "7          1               0        119346.88       1  \n",
              "8          0               1         74940.50       0  \n",
              "9          1               1         71725.73       0  "
            ],
            "text/html": [
              "\n",
              "  <div id=\"df-228f94d6-f681-4832-b04e-58ae42237e73\">\n",
              "    <div class=\"colab-df-container\">\n",
              "      <div>\n",
              "<style scoped>\n",
              "    .dataframe tbody tr th:only-of-type {\n",
              "        vertical-align: middle;\n",
              "    }\n",
              "\n",
              "    .dataframe tbody tr th {\n",
              "        vertical-align: top;\n",
              "    }\n",
              "\n",
              "    .dataframe thead th {\n",
              "        text-align: right;\n",
              "    }\n",
              "</style>\n",
              "<table border=\"1\" class=\"dataframe\">\n",
              "  <thead>\n",
              "    <tr style=\"text-align: right;\">\n",
              "      <th></th>\n",
              "      <th>CreditScore</th>\n",
              "      <th>Geography</th>\n",
              "      <th>Gender</th>\n",
              "      <th>Age</th>\n",
              "      <th>Tenure</th>\n",
              "      <th>Balance</th>\n",
              "      <th>NumOfProducts</th>\n",
              "      <th>HasCrCard</th>\n",
              "      <th>IsActiveMember</th>\n",
              "      <th>EstimatedSalary</th>\n",
              "      <th>Exited</th>\n",
              "    </tr>\n",
              "  </thead>\n",
              "  <tbody>\n",
              "    <tr>\n",
              "      <th>0</th>\n",
              "      <td>619</td>\n",
              "      <td>France</td>\n",
              "      <td>Female</td>\n",
              "      <td>42</td>\n",
              "      <td>2</td>\n",
              "      <td>0.00</td>\n",
              "      <td>1</td>\n",
              "      <td>1</td>\n",
              "      <td>1</td>\n",
              "      <td>101348.88</td>\n",
              "      <td>1</td>\n",
              "    </tr>\n",
              "    <tr>\n",
              "      <th>1</th>\n",
              "      <td>608</td>\n",
              "      <td>Spain</td>\n",
              "      <td>Female</td>\n",
              "      <td>41</td>\n",
              "      <td>1</td>\n",
              "      <td>83807.86</td>\n",
              "      <td>1</td>\n",
              "      <td>0</td>\n",
              "      <td>1</td>\n",
              "      <td>112542.58</td>\n",
              "      <td>0</td>\n",
              "    </tr>\n",
              "    <tr>\n",
              "      <th>2</th>\n",
              "      <td>502</td>\n",
              "      <td>France</td>\n",
              "      <td>Female</td>\n",
              "      <td>42</td>\n",
              "      <td>8</td>\n",
              "      <td>159660.80</td>\n",
              "      <td>3</td>\n",
              "      <td>1</td>\n",
              "      <td>0</td>\n",
              "      <td>113931.57</td>\n",
              "      <td>1</td>\n",
              "    </tr>\n",
              "    <tr>\n",
              "      <th>3</th>\n",
              "      <td>699</td>\n",
              "      <td>France</td>\n",
              "      <td>Female</td>\n",
              "      <td>39</td>\n",
              "      <td>1</td>\n",
              "      <td>0.00</td>\n",
              "      <td>2</td>\n",
              "      <td>0</td>\n",
              "      <td>0</td>\n",
              "      <td>93826.63</td>\n",
              "      <td>0</td>\n",
              "    </tr>\n",
              "    <tr>\n",
              "      <th>4</th>\n",
              "      <td>850</td>\n",
              "      <td>Spain</td>\n",
              "      <td>Female</td>\n",
              "      <td>43</td>\n",
              "      <td>2</td>\n",
              "      <td>125510.82</td>\n",
              "      <td>1</td>\n",
              "      <td>1</td>\n",
              "      <td>1</td>\n",
              "      <td>79084.10</td>\n",
              "      <td>0</td>\n",
              "    </tr>\n",
              "    <tr>\n",
              "      <th>5</th>\n",
              "      <td>645</td>\n",
              "      <td>Spain</td>\n",
              "      <td>Male</td>\n",
              "      <td>44</td>\n",
              "      <td>8</td>\n",
              "      <td>113755.78</td>\n",
              "      <td>2</td>\n",
              "      <td>1</td>\n",
              "      <td>0</td>\n",
              "      <td>149756.71</td>\n",
              "      <td>1</td>\n",
              "    </tr>\n",
              "    <tr>\n",
              "      <th>6</th>\n",
              "      <td>822</td>\n",
              "      <td>France</td>\n",
              "      <td>Male</td>\n",
              "      <td>50</td>\n",
              "      <td>7</td>\n",
              "      <td>0.00</td>\n",
              "      <td>2</td>\n",
              "      <td>1</td>\n",
              "      <td>1</td>\n",
              "      <td>10062.80</td>\n",
              "      <td>0</td>\n",
              "    </tr>\n",
              "    <tr>\n",
              "      <th>7</th>\n",
              "      <td>376</td>\n",
              "      <td>Germany</td>\n",
              "      <td>Female</td>\n",
              "      <td>29</td>\n",
              "      <td>4</td>\n",
              "      <td>115046.74</td>\n",
              "      <td>4</td>\n",
              "      <td>1</td>\n",
              "      <td>0</td>\n",
              "      <td>119346.88</td>\n",
              "      <td>1</td>\n",
              "    </tr>\n",
              "    <tr>\n",
              "      <th>8</th>\n",
              "      <td>501</td>\n",
              "      <td>France</td>\n",
              "      <td>Male</td>\n",
              "      <td>44</td>\n",
              "      <td>4</td>\n",
              "      <td>142051.07</td>\n",
              "      <td>2</td>\n",
              "      <td>0</td>\n",
              "      <td>1</td>\n",
              "      <td>74940.50</td>\n",
              "      <td>0</td>\n",
              "    </tr>\n",
              "    <tr>\n",
              "      <th>9</th>\n",
              "      <td>684</td>\n",
              "      <td>France</td>\n",
              "      <td>Male</td>\n",
              "      <td>27</td>\n",
              "      <td>2</td>\n",
              "      <td>134603.88</td>\n",
              "      <td>1</td>\n",
              "      <td>1</td>\n",
              "      <td>1</td>\n",
              "      <td>71725.73</td>\n",
              "      <td>0</td>\n",
              "    </tr>\n",
              "  </tbody>\n",
              "</table>\n",
              "</div>\n",
              "      <button class=\"colab-df-convert\" onclick=\"convertToInteractive('df-228f94d6-f681-4832-b04e-58ae42237e73')\"\n",
              "              title=\"Convert this dataframe to an interactive table.\"\n",
              "              style=\"display:none;\">\n",
              "        \n",
              "  <svg xmlns=\"http://www.w3.org/2000/svg\" height=\"24px\"viewBox=\"0 0 24 24\"\n",
              "       width=\"24px\">\n",
              "    <path d=\"M0 0h24v24H0V0z\" fill=\"none\"/>\n",
              "    <path d=\"M18.56 5.44l.94 2.06.94-2.06 2.06-.94-2.06-.94-.94-2.06-.94 2.06-2.06.94zm-11 1L8.5 8.5l.94-2.06 2.06-.94-2.06-.94L8.5 2.5l-.94 2.06-2.06.94zm10 10l.94 2.06.94-2.06 2.06-.94-2.06-.94-.94-2.06-.94 2.06-2.06.94z\"/><path d=\"M17.41 7.96l-1.37-1.37c-.4-.4-.92-.59-1.43-.59-.52 0-1.04.2-1.43.59L10.3 9.45l-7.72 7.72c-.78.78-.78 2.05 0 2.83L4 21.41c.39.39.9.59 1.41.59.51 0 1.02-.2 1.41-.59l7.78-7.78 2.81-2.81c.8-.78.8-2.07 0-2.86zM5.41 20L4 18.59l7.72-7.72 1.47 1.35L5.41 20z\"/>\n",
              "  </svg>\n",
              "      </button>\n",
              "      \n",
              "  <style>\n",
              "    .colab-df-container {\n",
              "      display:flex;\n",
              "      flex-wrap:wrap;\n",
              "      gap: 12px;\n",
              "    }\n",
              "\n",
              "    .colab-df-convert {\n",
              "      background-color: #E8F0FE;\n",
              "      border: none;\n",
              "      border-radius: 50%;\n",
              "      cursor: pointer;\n",
              "      display: none;\n",
              "      fill: #1967D2;\n",
              "      height: 32px;\n",
              "      padding: 0 0 0 0;\n",
              "      width: 32px;\n",
              "    }\n",
              "\n",
              "    .colab-df-convert:hover {\n",
              "      background-color: #E2EBFA;\n",
              "      box-shadow: 0px 1px 2px rgba(60, 64, 67, 0.3), 0px 1px 3px 1px rgba(60, 64, 67, 0.15);\n",
              "      fill: #174EA6;\n",
              "    }\n",
              "\n",
              "    [theme=dark] .colab-df-convert {\n",
              "      background-color: #3B4455;\n",
              "      fill: #D2E3FC;\n",
              "    }\n",
              "\n",
              "    [theme=dark] .colab-df-convert:hover {\n",
              "      background-color: #434B5C;\n",
              "      box-shadow: 0px 1px 3px 1px rgba(0, 0, 0, 0.15);\n",
              "      filter: drop-shadow(0px 1px 2px rgba(0, 0, 0, 0.3));\n",
              "      fill: #FFFFFF;\n",
              "    }\n",
              "  </style>\n",
              "\n",
              "      <script>\n",
              "        const buttonEl =\n",
              "          document.querySelector('#df-228f94d6-f681-4832-b04e-58ae42237e73 button.colab-df-convert');\n",
              "        buttonEl.style.display =\n",
              "          google.colab.kernel.accessAllowed ? 'block' : 'none';\n",
              "\n",
              "        async function convertToInteractive(key) {\n",
              "          const element = document.querySelector('#df-228f94d6-f681-4832-b04e-58ae42237e73');\n",
              "          const dataTable =\n",
              "            await google.colab.kernel.invokeFunction('convertToInteractive',\n",
              "                                                     [key], {});\n",
              "          if (!dataTable) return;\n",
              "\n",
              "          const docLinkHtml = 'Like what you see? Visit the ' +\n",
              "            '<a target=\"_blank\" href=https://colab.research.google.com/notebooks/data_table.ipynb>data table notebook</a>'\n",
              "            + ' to learn more about interactive tables.';\n",
              "          element.innerHTML = '';\n",
              "          dataTable['output_type'] = 'display_data';\n",
              "          await google.colab.output.renderOutput(dataTable, element);\n",
              "          const docLink = document.createElement('div');\n",
              "          docLink.innerHTML = docLinkHtml;\n",
              "          element.appendChild(docLink);\n",
              "        }\n",
              "      </script>\n",
              "    </div>\n",
              "  </div>\n",
              "  "
            ]
          },
          "metadata": {},
          "execution_count": 10
        }
      ]
    },
    {
      "cell_type": "markdown",
      "source": [
        "**Data Mapping**\n",
        "\n",
        "Here, columns such as 'Geography' & 'Gender' were reported in natural language and it is required to convert these columns to machine readable format for classification/prediction. From sklearn library, I used Label Encoder to convert it to system readable format.\n",
        "\n",
        "Mapped values:\n",
        "\n",
        "France: 0\n",
        "\n",
        "Germany: 1\n",
        "\n",
        "Spain: 2\n",
        "\n",
        "Male: 1\n",
        "\n",
        "Female:0\n"
      ],
      "metadata": {
        "id": "O3GESwgOA2AN"
      }
    },
    {
      "cell_type": "code",
      "source": [
        "from sklearn.preprocessing import LabelEncoder\n",
        "le=LabelEncoder()\n",
        "df['Geography']=le.fit_transform(df['Geography'])\n",
        "df['Gender']=le.fit_transform(df['Gender'])\n",
        "df"
      ],
      "metadata": {
        "colab": {
          "base_uri": "https://localhost:8080/",
          "height": 423
        },
        "id": "IalJqaiqAi4W",
        "outputId": "4e0e69b3-2cb8-4f47-cd60-b1c08c371189"
      },
      "execution_count": null,
      "outputs": [
        {
          "output_type": "execute_result",
          "data": {
            "text/plain": [
              "      CreditScore  Geography  Gender  Age  Tenure    Balance  NumOfProducts  \\\n",
              "0             619          0       0   42       2       0.00              1   \n",
              "1             608          2       0   41       1   83807.86              1   \n",
              "2             502          0       0   42       8  159660.80              3   \n",
              "3             699          0       0   39       1       0.00              2   \n",
              "4             850          2       0   43       2  125510.82              1   \n",
              "...           ...        ...     ...  ...     ...        ...            ...   \n",
              "9995          771          0       1   39       5       0.00              2   \n",
              "9996          516          0       1   35      10   57369.61              1   \n",
              "9997          709          0       0   36       7       0.00              1   \n",
              "9998          772          1       1   42       3   75075.31              2   \n",
              "9999          792          0       0   28       4  130142.79              1   \n",
              "\n",
              "      HasCrCard  IsActiveMember  EstimatedSalary  Exited  \n",
              "0             1               1        101348.88       1  \n",
              "1             0               1        112542.58       0  \n",
              "2             1               0        113931.57       1  \n",
              "3             0               0         93826.63       0  \n",
              "4             1               1         79084.10       0  \n",
              "...         ...             ...              ...     ...  \n",
              "9995          1               0         96270.64       0  \n",
              "9996          1               1        101699.77       0  \n",
              "9997          0               1         42085.58       1  \n",
              "9998          1               0         92888.52       1  \n",
              "9999          1               0         38190.78       0  \n",
              "\n",
              "[10000 rows x 11 columns]"
            ],
            "text/html": [
              "\n",
              "  <div id=\"df-f7034b49-e189-4c41-862c-e9a533e339cf\">\n",
              "    <div class=\"colab-df-container\">\n",
              "      <div>\n",
              "<style scoped>\n",
              "    .dataframe tbody tr th:only-of-type {\n",
              "        vertical-align: middle;\n",
              "    }\n",
              "\n",
              "    .dataframe tbody tr th {\n",
              "        vertical-align: top;\n",
              "    }\n",
              "\n",
              "    .dataframe thead th {\n",
              "        text-align: right;\n",
              "    }\n",
              "</style>\n",
              "<table border=\"1\" class=\"dataframe\">\n",
              "  <thead>\n",
              "    <tr style=\"text-align: right;\">\n",
              "      <th></th>\n",
              "      <th>CreditScore</th>\n",
              "      <th>Geography</th>\n",
              "      <th>Gender</th>\n",
              "      <th>Age</th>\n",
              "      <th>Tenure</th>\n",
              "      <th>Balance</th>\n",
              "      <th>NumOfProducts</th>\n",
              "      <th>HasCrCard</th>\n",
              "      <th>IsActiveMember</th>\n",
              "      <th>EstimatedSalary</th>\n",
              "      <th>Exited</th>\n",
              "    </tr>\n",
              "  </thead>\n",
              "  <tbody>\n",
              "    <tr>\n",
              "      <th>0</th>\n",
              "      <td>619</td>\n",
              "      <td>0</td>\n",
              "      <td>0</td>\n",
              "      <td>42</td>\n",
              "      <td>2</td>\n",
              "      <td>0.00</td>\n",
              "      <td>1</td>\n",
              "      <td>1</td>\n",
              "      <td>1</td>\n",
              "      <td>101348.88</td>\n",
              "      <td>1</td>\n",
              "    </tr>\n",
              "    <tr>\n",
              "      <th>1</th>\n",
              "      <td>608</td>\n",
              "      <td>2</td>\n",
              "      <td>0</td>\n",
              "      <td>41</td>\n",
              "      <td>1</td>\n",
              "      <td>83807.86</td>\n",
              "      <td>1</td>\n",
              "      <td>0</td>\n",
              "      <td>1</td>\n",
              "      <td>112542.58</td>\n",
              "      <td>0</td>\n",
              "    </tr>\n",
              "    <tr>\n",
              "      <th>2</th>\n",
              "      <td>502</td>\n",
              "      <td>0</td>\n",
              "      <td>0</td>\n",
              "      <td>42</td>\n",
              "      <td>8</td>\n",
              "      <td>159660.80</td>\n",
              "      <td>3</td>\n",
              "      <td>1</td>\n",
              "      <td>0</td>\n",
              "      <td>113931.57</td>\n",
              "      <td>1</td>\n",
              "    </tr>\n",
              "    <tr>\n",
              "      <th>3</th>\n",
              "      <td>699</td>\n",
              "      <td>0</td>\n",
              "      <td>0</td>\n",
              "      <td>39</td>\n",
              "      <td>1</td>\n",
              "      <td>0.00</td>\n",
              "      <td>2</td>\n",
              "      <td>0</td>\n",
              "      <td>0</td>\n",
              "      <td>93826.63</td>\n",
              "      <td>0</td>\n",
              "    </tr>\n",
              "    <tr>\n",
              "      <th>4</th>\n",
              "      <td>850</td>\n",
              "      <td>2</td>\n",
              "      <td>0</td>\n",
              "      <td>43</td>\n",
              "      <td>2</td>\n",
              "      <td>125510.82</td>\n",
              "      <td>1</td>\n",
              "      <td>1</td>\n",
              "      <td>1</td>\n",
              "      <td>79084.10</td>\n",
              "      <td>0</td>\n",
              "    </tr>\n",
              "    <tr>\n",
              "      <th>...</th>\n",
              "      <td>...</td>\n",
              "      <td>...</td>\n",
              "      <td>...</td>\n",
              "      <td>...</td>\n",
              "      <td>...</td>\n",
              "      <td>...</td>\n",
              "      <td>...</td>\n",
              "      <td>...</td>\n",
              "      <td>...</td>\n",
              "      <td>...</td>\n",
              "      <td>...</td>\n",
              "    </tr>\n",
              "    <tr>\n",
              "      <th>9995</th>\n",
              "      <td>771</td>\n",
              "      <td>0</td>\n",
              "      <td>1</td>\n",
              "      <td>39</td>\n",
              "      <td>5</td>\n",
              "      <td>0.00</td>\n",
              "      <td>2</td>\n",
              "      <td>1</td>\n",
              "      <td>0</td>\n",
              "      <td>96270.64</td>\n",
              "      <td>0</td>\n",
              "    </tr>\n",
              "    <tr>\n",
              "      <th>9996</th>\n",
              "      <td>516</td>\n",
              "      <td>0</td>\n",
              "      <td>1</td>\n",
              "      <td>35</td>\n",
              "      <td>10</td>\n",
              "      <td>57369.61</td>\n",
              "      <td>1</td>\n",
              "      <td>1</td>\n",
              "      <td>1</td>\n",
              "      <td>101699.77</td>\n",
              "      <td>0</td>\n",
              "    </tr>\n",
              "    <tr>\n",
              "      <th>9997</th>\n",
              "      <td>709</td>\n",
              "      <td>0</td>\n",
              "      <td>0</td>\n",
              "      <td>36</td>\n",
              "      <td>7</td>\n",
              "      <td>0.00</td>\n",
              "      <td>1</td>\n",
              "      <td>0</td>\n",
              "      <td>1</td>\n",
              "      <td>42085.58</td>\n",
              "      <td>1</td>\n",
              "    </tr>\n",
              "    <tr>\n",
              "      <th>9998</th>\n",
              "      <td>772</td>\n",
              "      <td>1</td>\n",
              "      <td>1</td>\n",
              "      <td>42</td>\n",
              "      <td>3</td>\n",
              "      <td>75075.31</td>\n",
              "      <td>2</td>\n",
              "      <td>1</td>\n",
              "      <td>0</td>\n",
              "      <td>92888.52</td>\n",
              "      <td>1</td>\n",
              "    </tr>\n",
              "    <tr>\n",
              "      <th>9999</th>\n",
              "      <td>792</td>\n",
              "      <td>0</td>\n",
              "      <td>0</td>\n",
              "      <td>28</td>\n",
              "      <td>4</td>\n",
              "      <td>130142.79</td>\n",
              "      <td>1</td>\n",
              "      <td>1</td>\n",
              "      <td>0</td>\n",
              "      <td>38190.78</td>\n",
              "      <td>0</td>\n",
              "    </tr>\n",
              "  </tbody>\n",
              "</table>\n",
              "<p>10000 rows × 11 columns</p>\n",
              "</div>\n",
              "      <button class=\"colab-df-convert\" onclick=\"convertToInteractive('df-f7034b49-e189-4c41-862c-e9a533e339cf')\"\n",
              "              title=\"Convert this dataframe to an interactive table.\"\n",
              "              style=\"display:none;\">\n",
              "        \n",
              "  <svg xmlns=\"http://www.w3.org/2000/svg\" height=\"24px\"viewBox=\"0 0 24 24\"\n",
              "       width=\"24px\">\n",
              "    <path d=\"M0 0h24v24H0V0z\" fill=\"none\"/>\n",
              "    <path d=\"M18.56 5.44l.94 2.06.94-2.06 2.06-.94-2.06-.94-.94-2.06-.94 2.06-2.06.94zm-11 1L8.5 8.5l.94-2.06 2.06-.94-2.06-.94L8.5 2.5l-.94 2.06-2.06.94zm10 10l.94 2.06.94-2.06 2.06-.94-2.06-.94-.94-2.06-.94 2.06-2.06.94z\"/><path d=\"M17.41 7.96l-1.37-1.37c-.4-.4-.92-.59-1.43-.59-.52 0-1.04.2-1.43.59L10.3 9.45l-7.72 7.72c-.78.78-.78 2.05 0 2.83L4 21.41c.39.39.9.59 1.41.59.51 0 1.02-.2 1.41-.59l7.78-7.78 2.81-2.81c.8-.78.8-2.07 0-2.86zM5.41 20L4 18.59l7.72-7.72 1.47 1.35L5.41 20z\"/>\n",
              "  </svg>\n",
              "      </button>\n",
              "      \n",
              "  <style>\n",
              "    .colab-df-container {\n",
              "      display:flex;\n",
              "      flex-wrap:wrap;\n",
              "      gap: 12px;\n",
              "    }\n",
              "\n",
              "    .colab-df-convert {\n",
              "      background-color: #E8F0FE;\n",
              "      border: none;\n",
              "      border-radius: 50%;\n",
              "      cursor: pointer;\n",
              "      display: none;\n",
              "      fill: #1967D2;\n",
              "      height: 32px;\n",
              "      padding: 0 0 0 0;\n",
              "      width: 32px;\n",
              "    }\n",
              "\n",
              "    .colab-df-convert:hover {\n",
              "      background-color: #E2EBFA;\n",
              "      box-shadow: 0px 1px 2px rgba(60, 64, 67, 0.3), 0px 1px 3px 1px rgba(60, 64, 67, 0.15);\n",
              "      fill: #174EA6;\n",
              "    }\n",
              "\n",
              "    [theme=dark] .colab-df-convert {\n",
              "      background-color: #3B4455;\n",
              "      fill: #D2E3FC;\n",
              "    }\n",
              "\n",
              "    [theme=dark] .colab-df-convert:hover {\n",
              "      background-color: #434B5C;\n",
              "      box-shadow: 0px 1px 3px 1px rgba(0, 0, 0, 0.15);\n",
              "      filter: drop-shadow(0px 1px 2px rgba(0, 0, 0, 0.3));\n",
              "      fill: #FFFFFF;\n",
              "    }\n",
              "  </style>\n",
              "\n",
              "      <script>\n",
              "        const buttonEl =\n",
              "          document.querySelector('#df-f7034b49-e189-4c41-862c-e9a533e339cf button.colab-df-convert');\n",
              "        buttonEl.style.display =\n",
              "          google.colab.kernel.accessAllowed ? 'block' : 'none';\n",
              "\n",
              "        async function convertToInteractive(key) {\n",
              "          const element = document.querySelector('#df-f7034b49-e189-4c41-862c-e9a533e339cf');\n",
              "          const dataTable =\n",
              "            await google.colab.kernel.invokeFunction('convertToInteractive',\n",
              "                                                     [key], {});\n",
              "          if (!dataTable) return;\n",
              "\n",
              "          const docLinkHtml = 'Like what you see? Visit the ' +\n",
              "            '<a target=\"_blank\" href=https://colab.research.google.com/notebooks/data_table.ipynb>data table notebook</a>'\n",
              "            + ' to learn more about interactive tables.';\n",
              "          element.innerHTML = '';\n",
              "          dataTable['output_type'] = 'display_data';\n",
              "          await google.colab.output.renderOutput(dataTable, element);\n",
              "          const docLink = document.createElement('div');\n",
              "          docLink.innerHTML = docLinkHtml;\n",
              "          element.appendChild(docLink);\n",
              "        }\n",
              "      </script>\n",
              "    </div>\n",
              "  </div>\n",
              "  "
            ]
          },
          "metadata": {},
          "execution_count": 11
        }
      ]
    },
    {
      "cell_type": "markdown",
      "source": [
        "**Feature and Class label separation**"
      ],
      "metadata": {
        "id": "oz5lJEi_wc4K"
      }
    },
    {
      "cell_type": "code",
      "source": [
        "X=df.iloc[:,:-1].values\n",
        "y=df.iloc[:,-1].values"
      ],
      "metadata": {
        "id": "n-GyDVliwJAk"
      },
      "execution_count": null,
      "outputs": []
    },
    {
      "cell_type": "markdown",
      "source": [
        "**Scaling** \n",
        "\n",
        "for easy and fast execution\n",
        "Here From sklearn library, I used MinMaxScaler is used for scaling.\n"
      ],
      "metadata": {
        "id": "cEovcGY5wl_S"
      }
    },
    {
      "cell_type": "code",
      "source": [
        "from sklearn.preprocessing import MinMaxScaler\n",
        "sc=MinMaxScaler()\n",
        "X_new=sc.fit_transform(X)"
      ],
      "metadata": {
        "id": "xo3JmxqawMO8"
      },
      "execution_count": null,
      "outputs": []
    },
    {
      "cell_type": "markdown",
      "source": [
        "**Train and Test data split**\n",
        "\n",
        "I used train_test_split function from library Scikit Learn to split the feature column data set into train data and test data. The\n",
        "main intention to do this step is to train a particular percentage of data to perform some analysis. Here the percentage of\n",
        "data taken is 0.3 and we have given random state function to keep the data always from state 1, so that the analysis value will\n",
        "be same on every executions"
      ],
      "metadata": {
        "id": "BQGRPnSyw3j-"
      }
    },
    {
      "cell_type": "code",
      "source": [
        "from sklearn.model_selection import train_test_split\n",
        "X_train,X_test,y_train,y_test=train_test_split(X_new,y,test_size=0.3,random_state=3)"
      ],
      "metadata": {
        "id": "TaHoais4wQlz"
      },
      "execution_count": null,
      "outputs": []
    },
    {
      "cell_type": "markdown",
      "source": [
        "**Modelling**\n",
        "\n",
        "Here I used classifiers such as RandomForestClassifier,AdaBoostClassifier, KNeighborsClassifier,from sklearn library for accuracy check and maximum accuracy model shown is 86% and which is from RandomForestClassifier. "
      ],
      "metadata": {
        "id": "5Ptyk9JGyGdm"
      }
    },
    {
      "cell_type": "code",
      "source": [
        "from sklearn.ensemble import RandomForestClassifier\n",
        "from sklearn.ensemble import AdaBoostClassifier\n",
        "from sklearn.neighbors import KNeighborsClassifier\n",
        "rf=RandomForestClassifier(n_estimators=100)\n",
        "ab=AdaBoostClassifier()\n",
        "knn=KNeighborsClassifier(n_neighbors=5)\n",
        "lst=[rf,ab,knn]\n",
        "from sklearn.metrics import classification_report,ConfusionMatrixDisplay\n",
        "for i in lst:\n",
        "  print(i)\n",
        "  i.fit(X_train,y_train)\n",
        "  y_pred=i.predict(X_test)\n",
        "  print(classification_report(y_test,y_pred))\n",
        "  print(ConfusionMatrixDisplay.from_predictions(y_test,y_pred))"
      ],
      "metadata": {
        "colab": {
          "base_uri": "https://localhost:8080/",
          "height": 1000
        },
        "id": "7I_i6eMNwWyA",
        "outputId": "0395bdb2-db91-49cb-f71a-ff617fd742d6"
      },
      "execution_count": null,
      "outputs": [
        {
          "output_type": "stream",
          "name": "stdout",
          "text": [
            "RandomForestClassifier()\n",
            "              precision    recall  f1-score   support\n",
            "\n",
            "           0       0.87      0.96      0.91      2381\n",
            "           1       0.76      0.45      0.56       619\n",
            "\n",
            "    accuracy                           0.86      3000\n",
            "   macro avg       0.82      0.70      0.74      3000\n",
            "weighted avg       0.85      0.86      0.84      3000\n",
            "\n",
            "<sklearn.metrics._plot.confusion_matrix.ConfusionMatrixDisplay object at 0x7f9d6bd64cd0>\n",
            "AdaBoostClassifier()\n",
            "              precision    recall  f1-score   support\n",
            "\n",
            "           0       0.87      0.95      0.91      2381\n",
            "           1       0.73      0.47      0.57       619\n",
            "\n",
            "    accuracy                           0.85      3000\n",
            "   macro avg       0.80      0.71      0.74      3000\n",
            "weighted avg       0.84      0.85      0.84      3000\n",
            "\n",
            "<sklearn.metrics._plot.confusion_matrix.ConfusionMatrixDisplay object at 0x7f9d6c02fbb0>\n",
            "KNeighborsClassifier()\n",
            "              precision    recall  f1-score   support\n",
            "\n",
            "           0       0.83      0.95      0.89      2381\n",
            "           1       0.60      0.27      0.37       619\n",
            "\n",
            "    accuracy                           0.81      3000\n",
            "   macro avg       0.72      0.61      0.63      3000\n",
            "weighted avg       0.79      0.81      0.78      3000\n",
            "\n",
            "<sklearn.metrics._plot.confusion_matrix.ConfusionMatrixDisplay object at 0x7f9d6c11cd00>\n"
          ]
        },
        {
          "output_type": "display_data",
          "data": {
            "text/plain": [
              "<Figure size 432x288 with 2 Axes>"
            ],
            "image/png": "[encoded data removed]"
          },
          "metadata": {
            "needs_background": "light"
          }
        },
        {
          "output_type": "display_data",
          "data": {
            "text/plain": [
              "<Figure size 432x288 with 2 Axes>"
            ],
            "image/png": "[encoded data removed]"
          },
          "metadata": {
            "needs_background": "light"
          }
        },
        {
          "output_type": "display_data",
          "data": {
            "text/plain": [
              "<Figure size 432x288 with 2 Axes>"
            ],
            "image/png": "[encoded data removed]"
          },
          "metadata": {
            "needs_background": "light"
          }
        }
      ]
    },
    {
      "cell_type": "markdown",
      "source": [
        "**Oversampling**"
      ],
      "metadata": {
        "id": "oELhvdwOvxTn"
      }
    },
    {
      "cell_type": "code",
      "source": [
        "df['Exited'].value_counts()"
      ],
      "metadata": {
        "colab": {
          "base_uri": "https://localhost:8080/"
        },
        "id": "aXIpN0_8vwfH",
        "outputId": "5ec196d1-7293-471d-8882-756115494dc5"
      },
      "execution_count": null,
      "outputs": [
        {
          "output_type": "execute_result",
          "data": {
            "text/plain": [
              "0    7963\n",
              "1    2037\n",
              "Name: Exited, dtype: int64"
            ]
          },
          "metadata": {},
          "execution_count": 16
        }
      ]
    },
    {
      "cell_type": "code",
      "source": [
        "from imblearn.over_sampling import SMOTE\n",
        "os=SMOTE(random_state=1)\n",
        "X_os,y_os=os.fit_resample(X,y)"
      ],
      "metadata": {
        "id": "yhK5XajDw8rl"
      },
      "execution_count": null,
      "outputs": []
    },
    {
      "cell_type": "code",
      "source": [
        "from collections import Counter\n",
        "print(Counter(y_os))"
      ],
      "metadata": {
        "colab": {
          "base_uri": "https://localhost:8080/"
        },
        "id": "zwG-JroOv68J",
        "outputId": "f4a05c9f-e333-4c6d-a9e4-ae3aec452d1b"
      },
      "execution_count": null,
      "outputs": [
        {
          "output_type": "stream",
          "name": "stdout",
          "text": [
            "Counter({1: 7963, 0: 7963})\n"
          ]
        }
      ]
    },
    {
      "cell_type": "code",
      "source": [
        "from sklearn.model_selection import train_test_split\n",
        "X_train,X_test,y_train,y_test=train_test_split(X_os,y_os,test_size=.3,random_state=3)"
      ],
      "metadata": {
        "id": "KO2_IKrjwfuA"
      },
      "execution_count": null,
      "outputs": []
    },
    {
      "cell_type": "code",
      "source": [
        "from sklearn.ensemble import RandomForestClassifier\n",
        "from sklearn.ensemble import AdaBoostClassifier\n",
        "from sklearn.neighbors import KNeighborsClassifier\n",
        "rf=RandomForestClassifier(n_estimators=150)\n",
        "ab=AdaBoostClassifier()\n",
        "knn=KNeighborsClassifier(n_neighbors=5)\n",
        "lst=[rf,ab,knn]\n",
        "from sklearn.metrics import classification_report,ConfusionMatrixDisplay\n",
        "for i in lst:\n",
        "  print(i)\n",
        "  i.fit(X_train,y_train)\n",
        "  y_pred=i.predict(X_test)\n",
        "  print(classification_report(y_test,y_pred))\n",
        "  print(ConfusionMatrixDisplay.from_predictions(y_test,y_pred))"
      ],
      "metadata": {
        "colab": {
          "base_uri": "https://localhost:8080/",
          "height": 1000
        },
        "id": "rNkRO1A6v6fe",
        "outputId": "5623abf2-e3cc-4577-9c89-39b54d3dfedd"
      },
      "execution_count": null,
      "outputs": [
        {
          "output_type": "stream",
          "name": "stdout",
          "text": [
            "RandomForestClassifier(n_estimators=150)\n",
            "              precision    recall  f1-score   support\n",
            "\n",
            "           0       0.88      0.94      0.91      2362\n",
            "           1       0.94      0.87      0.90      2416\n",
            "\n",
            "    accuracy                           0.91      4778\n",
            "   macro avg       0.91      0.91      0.91      4778\n",
            "weighted avg       0.91      0.91      0.91      4778\n",
            "\n",
            "<sklearn.metrics._plot.confusion_matrix.ConfusionMatrixDisplay object at 0x7f9d6c1a8550>\n",
            "AdaBoostClassifier()\n",
            "              precision    recall  f1-score   support\n",
            "\n",
            "           0       0.87      0.91      0.89      2362\n",
            "           1       0.90      0.87      0.89      2416\n",
            "\n",
            "    accuracy                           0.89      4778\n",
            "   macro avg       0.89      0.89      0.89      4778\n",
            "weighted avg       0.89      0.89      0.89      4778\n",
            "\n",
            "<sklearn.metrics._plot.confusion_matrix.ConfusionMatrixDisplay object at 0x7f9d6beb57f0>\n",
            "KNeighborsClassifier()\n",
            "              precision    recall  f1-score   support\n",
            "\n",
            "           0       0.69      0.61      0.65      2362\n",
            "           1       0.66      0.73      0.69      2416\n",
            "\n",
            "    accuracy                           0.67      4778\n",
            "   macro avg       0.67      0.67      0.67      4778\n",
            "weighted avg       0.67      0.67      0.67      4778\n",
            "\n",
            "<sklearn.metrics._plot.confusion_matrix.ConfusionMatrixDisplay object at 0x7f9d6aacd130>\n"
          ]
        },
        {
          "output_type": "display_data",
          "data": {
            "text/plain": [
              "<Figure size 432x288 with 2 Axes>"
            ],
            "image/png": "[encoded data removed]"
          },
          "metadata": {
            "needs_background": "light"
          }
        },
        {
          "output_type": "display_data",
          "data": {
            "text/plain": [
              "<Figure size 432x288 with 2 Axes>"
            ],
            "image/png": "[encoded data removed]"
          },
          "metadata": {
            "needs_background": "light"
          }
        },
        {
          "output_type": "display_data",
          "data": {
            "text/plain": [
              "<Figure size 432x288 with 2 Axes>"
            ],
            "image/png": "[encoded data removed]"
          },
          "metadata": {
            "needs_background": "light"
          }
        }
      ]
    },
    {
      "cell_type": "markdown",
      "source": [
        "**Under sampling**"
      ],
      "metadata": {
        "id": "ytl0ru6nv-wA"
      }
    },
    {
      "cell_type": "code",
      "source": [
        "df['Exited'].value_counts()"
      ],
      "metadata": {
        "colab": {
          "base_uri": "https://localhost:8080/"
        },
        "id": "KPUqj__ZwSpn",
        "outputId": "acdcb1c2-1be5-4737-d5ab-107440d2019d"
      },
      "execution_count": null,
      "outputs": [
        {
          "output_type": "execute_result",
          "data": {
            "text/plain": [
              "0    7963\n",
              "1    2037\n",
              "Name: Exited, dtype: int64"
            ]
          },
          "metadata": {},
          "execution_count": 21
        }
      ]
    },
    {
      "cell_type": "code",
      "source": [
        "from imblearn.under_sampling import RandomUnderSampler\n",
        "us=RandomUnderSampler(random_state=1)\n",
        "X_us,y_us=us.fit_resample(X,y)"
      ],
      "metadata": {
        "id": "zJkW8Sd3wUoO"
      },
      "execution_count": null,
      "outputs": []
    },
    {
      "cell_type": "code",
      "source": [
        "from collections import Counter\n",
        "print(Counter(y_us))"
      ],
      "metadata": {
        "colab": {
          "base_uri": "https://localhost:8080/"
        },
        "id": "JP_Tw8HRwUeH",
        "outputId": "c9a0d113-7110-46e4-c348-92478434bccb"
      },
      "execution_count": null,
      "outputs": [
        {
          "output_type": "stream",
          "name": "stdout",
          "text": [
            "Counter({0: 2037, 1: 2037})\n"
          ]
        }
      ]
    },
    {
      "cell_type": "code",
      "source": [
        "from sklearn.model_selection import train_test_split\n",
        "X_train,X_test,y_train,y_test=train_test_split(X_us,y_us,test_size=0.3,random_state=3)"
      ],
      "metadata": {
        "id": "qvkvvxvrwaS3"
      },
      "execution_count": null,
      "outputs": []
    },
    {
      "cell_type": "code",
      "source": [
        "from sklearn.ensemble import RandomForestClassifier\n",
        "from sklearn.ensemble import AdaBoostClassifier\n",
        "from sklearn.neighbors import KNeighborsClassifier\n",
        "rf=RandomForestClassifier(n_estimators=100)\n",
        "ab=AdaBoostClassifier()\n",
        "knn=KNeighborsClassifier(n_neighbors=5)\n",
        "lst=[rf,ab,knn]\n",
        "from sklearn.metrics import classification_report,ConfusionMatrixDisplay\n",
        "for i in lst:\n",
        "  print(i)\n",
        "  i.fit(X_train,y_train)\n",
        "  y_pred=i.predict(X_test)\n",
        "  print(classification_report(y_test,y_pred))\n",
        "  print(ConfusionMatrixDisplay.from_predictions(y_test,y_pred))"
      ],
      "metadata": {
        "colab": {
          "base_uri": "https://localhost:8080/",
          "height": 1000
        },
        "id": "vOfOxaxIwUST",
        "outputId": "eca833c4-a64a-49e2-adfb-7ab6e5382e3f"
      },
      "execution_count": null,
      "outputs": [
        {
          "output_type": "stream",
          "name": "stdout",
          "text": [
            "RandomForestClassifier()\n",
            "              precision    recall  f1-score   support\n",
            "\n",
            "           0       0.75      0.79      0.77       602\n",
            "           1       0.78      0.75      0.77       621\n",
            "\n",
            "    accuracy                           0.77      1223\n",
            "   macro avg       0.77      0.77      0.77      1223\n",
            "weighted avg       0.77      0.77      0.77      1223\n",
            "\n",
            "<sklearn.metrics._plot.confusion_matrix.ConfusionMatrixDisplay object at 0x7f9d6c25cf70>\n",
            "AdaBoostClassifier()\n",
            "              precision    recall  f1-score   support\n",
            "\n",
            "           0       0.74      0.78      0.76       602\n",
            "           1       0.77      0.73      0.75       621\n",
            "\n",
            "    accuracy                           0.76      1223\n",
            "   macro avg       0.76      0.76      0.76      1223\n",
            "weighted avg       0.76      0.76      0.76      1223\n",
            "\n",
            "<sklearn.metrics._plot.confusion_matrix.ConfusionMatrixDisplay object at 0x7f9d6c25cf70>\n",
            "KNeighborsClassifier()\n",
            "              precision    recall  f1-score   support\n",
            "\n",
            "           0       0.52      0.54      0.53       602\n",
            "           1       0.54      0.52      0.53       621\n",
            "\n",
            "    accuracy                           0.53      1223\n",
            "   macro avg       0.53      0.53      0.53      1223\n",
            "weighted avg       0.53      0.53      0.53      1223\n",
            "\n",
            "<sklearn.metrics._plot.confusion_matrix.ConfusionMatrixDisplay object at 0x7f9d6a92b460>\n"
          ]
        },
        {
          "output_type": "display_data",
          "data": {
            "text/plain": [
              "<Figure size 432x288 with 2 Axes>"
            ],
            "image/png": "[encoded data removed]"
          },
          "metadata": {
            "needs_background": "light"
          }
        },
        {
          "output_type": "display_data",
          "data": {
            "text/plain": [
              "<Figure size 432x288 with 2 Axes>"
            ],
            "image/png": "[encoded data removed]"
          },
          "metadata": {
            "needs_background": "light"
          }
        },
        {
          "output_type": "display_data",
          "data": {
            "text/plain": [
              "<Figure size 432x288 with 2 Axes>"
            ],
            "image/png": "[encoded data removed]"
          },
          "metadata": {
            "needs_background": "light"
          }
        }
      ]
    },
    {
      "cell_type": "markdown",
      "source": [
        "**Principal Component Analysis**"
      ],
      "metadata": {
        "id": "DFk0GKwVy7sK"
      }
    },
    {
      "cell_type": "code",
      "source": [
        "from sklearn.decomposition import PCA\n",
        "pca=PCA(n_components=9)\n",
        "X_train_pca=pca.fit_transform(X_train)\n",
        "X_test_pca=pca.transform(X_test)"
      ],
      "metadata": {
        "id": "mjrUj6p5ogEY"
      },
      "execution_count": null,
      "outputs": []
    },
    {
      "cell_type": "code",
      "source": [
        "from sklearn.ensemble import RandomForestClassifier\n",
        "from sklearn.ensemble import AdaBoostClassifier\n",
        "from sklearn.neighbors import KNeighborsClassifier\n",
        "rf=RandomForestClassifier(n_estimators=100)\n",
        "ab=AdaBoostClassifier()\n",
        "knn=KNeighborsClassifier(n_neighbors=10)\n",
        "lst=[rf,ab,knn]\n",
        "from sklearn.metrics import classification_report,ConfusionMatrixDisplay\n",
        "for i in lst:\n",
        "  print(i)\n",
        "  i.fit(X_train_pca,y_train)\n",
        "  y_pred=i.predict(X_test_pca)\n",
        "  print(classification_report(y_test,y_pred))\n",
        "  print(ConfusionMatrixDisplay.from_predictions(y_test,y_pred))"
      ],
      "metadata": {
        "id": "2XQDzLxAxSTX",
        "colab": {
          "base_uri": "https://localhost:8080/",
          "height": 1000
        },
        "outputId": "71a21be8-87d7-434c-9917-51d0afd58846"
      },
      "execution_count": null,
      "outputs": [
        {
          "output_type": "stream",
          "name": "stdout",
          "text": [
            "RandomForestClassifier()\n",
            "              precision    recall  f1-score   support\n",
            "\n",
            "           0       0.75      0.78      0.77       602\n",
            "           1       0.78      0.75      0.76       621\n",
            "\n",
            "    accuracy                           0.77      1223\n",
            "   macro avg       0.77      0.77      0.77      1223\n",
            "weighted avg       0.77      0.77      0.77      1223\n",
            "\n",
            "<sklearn.metrics._plot.confusion_matrix.ConfusionMatrixDisplay object at 0x7f9d6a8634f0>\n",
            "AdaBoostClassifier()\n",
            "              precision    recall  f1-score   support\n",
            "\n",
            "           0       0.75      0.78      0.76       602\n",
            "           1       0.78      0.75      0.76       621\n",
            "\n",
            "    accuracy                           0.76      1223\n",
            "   macro avg       0.76      0.76      0.76      1223\n",
            "weighted avg       0.76      0.76      0.76      1223\n",
            "\n",
            "<sklearn.metrics._plot.confusion_matrix.ConfusionMatrixDisplay object at 0x7f9d6a8635e0>\n",
            "KNeighborsClassifier(n_neighbors=10)\n",
            "              precision    recall  f1-score   support\n",
            "\n",
            "           0       0.53      0.66      0.58       602\n",
            "           1       0.56      0.43      0.49       621\n",
            "\n",
            "    accuracy                           0.54      1223\n",
            "   macro avg       0.54      0.54      0.54      1223\n",
            "weighted avg       0.54      0.54      0.53      1223\n",
            "\n",
            "<sklearn.metrics._plot.confusion_matrix.ConfusionMatrixDisplay object at 0x7f9d6a8603d0>\n"
          ]
        },
        {
          "output_type": "display_data",
          "data": {
            "text/plain": [
              "<Figure size 432x288 with 2 Axes>"
            ],
            "image/png": "[encoded data removed]"
          },
          "metadata": {
            "needs_background": "light"
          }
        },
        {
          "output_type": "display_data",
          "data": {
            "text/plain": [
              "<Figure size 432x288 with 2 Axes>"
            ],
            "image/png": "[encoded data removed]"
          },
          "metadata": {
            "needs_background": "light"
          }
        },
        {
          "output_type": "display_data",
          "data": {
            "text/plain": [
              "<Figure size 432x288 with 2 Axes>"
            ],
            "image/png": "[encoded data removed]"
          },
          "metadata": {
            "needs_background": "light"
          }
        }
      ]
    },
    {
      "cell_type": "markdown",
      "source": [
        "**Outlier handling**"
      ],
      "metadata": {
        "id": "shnLp19b14fY"
      }
    },
    {
      "cell_type": "code",
      "source": [
        "for i in df.columns:\n",
        "  sns.boxplot(df[i])\n",
        "  plt.show()\n"
      ],
      "metadata": {
        "colab": {
          "base_uri": "https://localhost:8080/",
          "height": 1000
        },
        "id": "mgKCrCtr13sU",
        "outputId": "1d36c04f-8475-4481-cf27-248cf1c1e170"
      },
      "execution_count": null,
      "outputs": [
        {
          "output_type": "display_data",
          "data": {
            "text/plain": [
              "<Figure size 432x288 with 1 Axes>"
            ],
            "image/png": "[encoded data removed]"
          },
          "metadata": {
            "needs_background": "light"
          }
        },
        {
          "output_type": "display_data",
          "data": {
            "text/plain": [
              "<Figure size 432x288 with 1 Axes>"
            ],
            "image/png": "[encoded data removed]"
          },
          "metadata": {
            "needs_background": "light"
          }
        },
        {
          "output_type": "display_data",
          "data": {
            "text/plain": [
              "<Figure size 432x288 with 1 Axes>"
            ],
            "image/png": "[encoded data removed]"
          },
          "metadata": {
            "needs_background": "light"
          }
        },
        {
          "output_type": "display_data",
          "data": {
            "text/plain": [
              "<Figure size 432x288 with 1 Axes>"
            ],
            "image/png": "[encoded data removed]"
          },
          "metadata": {
            "needs_background": "light"
          }
        },
        {
          "output_type": "display_data",
          "data": {
            "text/plain": [
              "<Figure size 432x288 with 1 Axes>"
            ],
            "image/png": "[encoded data removed]"
          },
          "metadata": {
            "needs_background": "light"
          }
        },
        {
          "output_type": "display_data",
          "data": {
            "text/plain": [
              "<Figure size 432x288 with 1 Axes>"
            ],
            "image/png": "[encoded data removed]"
          },
          "metadata": {
            "needs_background": "light"
          }
        },
        {
          "output_type": "display_data",
          "data": {
            "text/plain": [
              "<Figure size 432x288 with 1 Axes>"
            ],
            "image/png": "[encoded data removed]"
          },
          "metadata": {
            "needs_background": "light"
          }
        },
        {
          "output_type": "display_data",
          "data": {
            "text/plain": [
              "<Figure size 432x288 with 1 Axes>"
            ],
            "image/png": "[encoded data removed]"
          },
          "metadata": {
            "needs_background": "light"
          }
        },
        {
          "output_type": "display_data",
          "data": {
            "text/plain": [
              "<Figure size 432x288 with 1 Axes>"
            ],
            "image/png": "[encoded data removed]"
          },
          "metadata": {
            "needs_background": "light"
          }
        },
        {
          "output_type": "display_data",
          "data": {
            "text/plain": [
              "<Figure size 432x288 with 1 Axes>"
            ],
            "image/png": "[encoded data removed]"
          },
          "metadata": {
            "needs_background": "light"
          }
        },
        {
          "output_type": "display_data",
          "data": {
            "text/plain": [
              "<Figure size 432x288 with 1 Axes>"
            ],
            "image/png": "[encoded data removed]"
          },
          "metadata": {
            "needs_background": "light"
          }
        }
      ]
    },
    {
      "cell_type": "code",
      "source": [
        "import numpy as np\n",
        "q1=df.CreditScore.quantile(.25)\n",
        "q3=df.CreditScore.quantile(.75)\n",
        "iqr=q3-q1\n",
        "upperlimit= q3+(1.5*iqr)\n",
        "lowerlimit= q1-(1.5*iqr)\n",
        "df['CreditScore']=np.where(df['CreditScore']>upperlimit,upperlimit,np.where(df['CreditScore']<lowerlimit,lowerlimit,df['CreditScore']))\n"
      ],
      "metadata": {
        "id": "Fnet7ihl2ip1"
      },
      "execution_count": null,
      "outputs": []
    },
    {
      "cell_type": "code",
      "source": [
        "\n",
        "sns.boxplot(df['CreditScore'])"
      ],
      "metadata": {
        "colab": {
          "base_uri": "https://localhost:8080/",
          "height": 297
        },
        "id": "TaMG67Hs3UzD",
        "outputId": "849cac49-4f5a-47db-a960-38f863c183cc"
      },
      "execution_count": null,
      "outputs": [
        {
          "output_type": "execute_result",
          "data": {
            "text/plain": [
              "<matplotlib.axes._subplots.AxesSubplot at 0x7f9d6a86a670>"
            ]
          },
          "metadata": {},
          "execution_count": 30
        },
        {
          "output_type": "display_data",
          "data": {
            "text/plain": [
              "<Figure size 432x288 with 1 Axes>"
            ],
            "image/png": "[encoded data removed]"
          },
          "metadata": {
            "needs_background": "light"
          }
        }
      ]
    },
    {
      "cell_type": "code",
      "source": [
        "X=df.iloc[:,:-1].values\n",
        "y=df.iloc[:,-1].values\n",
        "from sklearn.preprocessing import MinMaxScaler\n",
        "sc=MinMaxScaler()\n",
        "X_new=sc.fit_transform(X)\n",
        "from sklearn.model_selection import train_test_split\n",
        "X_train,X_test,y_train,y_test=train_test_split(X_new,y,test_size=0.3,random_state=3)\n",
        "from sklearn.ensemble import RandomForestClassifier\n",
        "from sklearn.ensemble import AdaBoostClassifier\n",
        "from sklearn.neighbors import KNeighborsClassifier\n",
        "rf=RandomForestClassifier(n_estimators=100)\n",
        "ab=AdaBoostClassifier()\n",
        "knn=KNeighborsClassifier(n_neighbors=5)\n",
        "lst=[rf,ab,knn]\n",
        "from sklearn.metrics import classification_report,ConfusionMatrixDisplay\n",
        "for i in lst:\n",
        "  print(i)\n",
        "  i.fit(X_train,y_train)\n",
        "  y_pred=i.predict(X_test)\n",
        "  print(classification_report(y_test,y_pred))\n",
        "  print(ConfusionMatrixDisplay.from_predictions(y_test,y_pred))"
      ],
      "metadata": {
        "colab": {
          "base_uri": "https://localhost:8080/",
          "height": 1000
        },
        "id": "skv4deu33Hvp",
        "outputId": "3f37c626-1f53-4cf0-f395-3d6cbed1c06c"
      },
      "execution_count": null,
      "outputs": [
        {
          "output_type": "stream",
          "name": "stdout",
          "text": [
            "RandomForestClassifier()\n",
            "              precision    recall  f1-score   support\n",
            "\n",
            "           0       0.87      0.96      0.91      2381\n",
            "           1       0.76      0.45      0.56       619\n",
            "\n",
            "    accuracy                           0.86      3000\n",
            "   macro avg       0.82      0.70      0.74      3000\n",
            "weighted avg       0.85      0.86      0.84      3000\n",
            "\n",
            "<sklearn.metrics._plot.confusion_matrix.ConfusionMatrixDisplay object at 0x7f9d6a863610>\n",
            "AdaBoostClassifier()\n",
            "              precision    recall  f1-score   support\n",
            "\n",
            "           0       0.87      0.95      0.91      2381\n",
            "           1       0.73      0.47      0.57       619\n",
            "\n",
            "    accuracy                           0.85      3000\n",
            "   macro avg       0.80      0.71      0.74      3000\n",
            "weighted avg       0.84      0.85      0.84      3000\n",
            "\n",
            "<sklearn.metrics._plot.confusion_matrix.ConfusionMatrixDisplay object at 0x7f9d6876d9d0>\n",
            "KNeighborsClassifier()\n",
            "              precision    recall  f1-score   support\n",
            "\n",
            "           0       0.83      0.95      0.89      2381\n",
            "           1       0.59      0.27      0.37       619\n",
            "\n",
            "    accuracy                           0.81      3000\n",
            "   macro avg       0.71      0.61      0.63      3000\n",
            "weighted avg       0.78      0.81      0.78      3000\n",
            "\n",
            "<sklearn.metrics._plot.confusion_matrix.ConfusionMatrixDisplay object at 0x7f9d6876d9d0>\n"
          ]
        },
        {
          "output_type": "display_data",
          "data": {
            "text/plain": [
              "<Figure size 432x288 with 2 Axes>"
            ],
            "image/png": "[encoded data removed]"
          },
          "metadata": {
            "needs_background": "light"
          }
        },
        {
          "output_type": "display_data",
          "data": {
            "text/plain": [
              "<Figure size 432x288 with 2 Axes>"
            ],
            "image/png": "[encoded data removed]"
          },
          "metadata": {
            "needs_background": "light"
          }
        },
        {
          "output_type": "display_data",
          "data": {
            "text/plain": [
              "<Figure size 432x288 with 2 Axes>"
            ],
            "image/png": "[encoded data removed]"
          },
          "metadata": {
            "needs_background": "light"
          }
        }
      ]
    },
    {
      "cell_type": "code",
      "source": [],
      "metadata": {
        "id": "Tt4vJiYT6xP7"
      },
      "execution_count": null,
      "outputs": []
    },
    {
      "cell_type": "markdown",
      "source": [
        "**Correlation Method(Feature Selection)**"
      ],
      "metadata": {
        "id": "sie6L4S5zON4"
      }
    },
    {
      "cell_type": "code",
      "source": [
        "df.corr() \n",
        "import seaborn as sns\n",
        "import matplotlib.pyplot as plt\n",
        "plt.figure(figsize=(13,10))\n",
        "sns.heatmap(df.corr(),annot=True,cmap='coolwarm')"
      ],
      "metadata": {
        "colab": {
          "base_uri": "https://localhost:8080/",
          "height": 685
        },
        "id": "-k1xXCoXYiIs",
        "outputId": "618b200b-3c37-4ecc-9c42-50686238a8a6"
      },
      "execution_count": null,
      "outputs": [
        {
          "output_type": "execute_result",
          "data": {
            "text/plain": [
              "<matplotlib.axes._subplots.AxesSubplot at 0x7f9d688087c0>"
            ]
          },
          "metadata": {},
          "execution_count": 32
        },
        {
          "output_type": "display_data",
          "data": {
            "text/plain": [
              "<Figure size 936x720 with 2 Axes>"
            ],
            "image/png": "[encoded data removed]"
          },
          "metadata": {
            "needs_background": "light"
          }
        }
      ]
    },
    {
      "cell_type": "code",
      "source": [
        "X=df.iloc[:,:-1]\n",
        "from scipy.stats import pearsonr\n",
        "correlations = [] \n",
        "for feature in X.columns:\n",
        "  corr, _ = pearsonr(X[feature], y)\n",
        "  correlations.append((feature,corr)) \n",
        "correlations.sort(key=lambda x: abs(x[1]), reverse=True)\n",
        "correlations"
      ],
      "metadata": {
        "colab": {
          "base_uri": "https://localhost:8080/"
        },
        "id": "1Wsh5wnmxZCr",
        "outputId": "79de9d2c-14cc-4fb8-e2f1-beb56651ba79"
      },
      "execution_count": null,
      "outputs": [
        {
          "output_type": "execute_result",
          "data": {
            "text/plain": [
              "[('Age', 0.28532303783506824),\n",
              " ('IsActiveMember', -0.1561282781889048),\n",
              " ('Balance', 0.118532768771634),\n",
              " ('Gender', -0.10651248767347492),\n",
              " ('NumOfProducts', -0.04781986494944074),\n",
              " ('Geography', 0.035942954606537056),\n",
              " ('CreditScore', -0.02645456975099026),\n",
              " ('Tenure', -0.014000612253444653),\n",
              " ('EstimatedSalary', 0.012096861026844645),\n",
              " ('HasCrCard', -0.007137765603038897)]"
            ]
          },
          "metadata": {},
          "execution_count": 33
        }
      ]
    },
    {
      "cell_type": "markdown",
      "source": [
        "![corr().PNG](data:image/png;base64,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)\n",
        "\n"
      ],
      "metadata": {
        "id": "Rsh39D71DHvx"
      }
    },
    {
      "cell_type": "code",
      "source": [
        "df.drop(['IsActiveMember','Gender'],axis=1,inplace=True)\n",
        "X=df.iloc[:,:-1].values\n",
        "y=df.iloc[:,-1].values\n",
        "from sklearn.preprocessing import MinMaxScaler\n",
        "sc=MinMaxScaler()\n",
        "X_new=sc.fit_transform(X)\n",
        "from sklearn.model_selection import train_test_split\n",
        "X_train,X_test,y_train,y_test=train_test_split(X_new,y,test_size=0.3,random_state=3)\n",
        "from sklearn.ensemble import RandomForestClassifier\n",
        "from sklearn.ensemble import AdaBoostClassifier\n",
        "from sklearn.neighbors import KNeighborsClassifier\n",
        "rf=RandomForestClassifier(n_estimators=100)\n",
        "ab=AdaBoostClassifier()\n",
        "knn=KNeighborsClassifier(n_neighbors=5)\n",
        "lst=[rf,ab,knn]\n",
        "from sklearn.metrics import classification_report,ConfusionMatrixDisplay\n",
        "for i in lst:\n",
        "  print(i)\n",
        "  i.fit(X_train,y_train)\n",
        "  y_pred=i.predict(X_test)\n",
        "  print(classification_report(y_test,y_pred))\n",
        "  print(ConfusionMatrixDisplay.from_predictions(y_test,y_pred))"
      ],
      "metadata": {
        "colab": {
          "base_uri": "https://localhost:8080/",
          "height": 1000
        },
        "id": "3_pZmZMNzVph",
        "outputId": "8679dd32-51e7-4915-c999-04709e040345"
      },
      "execution_count": null,
      "outputs": [
        {
          "output_type": "stream",
          "name": "stdout",
          "text": [
            "RandomForestClassifier()\n",
            "              precision    recall  f1-score   support\n",
            "\n",
            "           0       0.86      0.96      0.91      2381\n",
            "           1       0.75      0.42      0.54       619\n",
            "\n",
            "    accuracy                           0.85      3000\n",
            "   macro avg       0.81      0.69      0.72      3000\n",
            "weighted avg       0.84      0.85      0.83      3000\n",
            "\n",
            "<sklearn.metrics._plot.confusion_matrix.ConfusionMatrixDisplay object at 0x7f9d6a9b0ee0>\n",
            "AdaBoostClassifier()\n",
            "              precision    recall  f1-score   support\n",
            "\n",
            "           0       0.87      0.95      0.91      2381\n",
            "           1       0.70      0.43      0.53       619\n",
            "\n",
            "    accuracy                           0.84      3000\n",
            "   macro avg       0.78      0.69      0.72      3000\n",
            "weighted avg       0.83      0.84      0.83      3000\n",
            "\n",
            "<sklearn.metrics._plot.confusion_matrix.ConfusionMatrixDisplay object at 0x7f9d6bf66250>\n",
            "KNeighborsClassifier()\n",
            "              precision    recall  f1-score   support\n",
            "\n",
            "           0       0.84      0.93      0.88      2381\n",
            "           1       0.56      0.32      0.41       619\n",
            "\n",
            "    accuracy                           0.81      3000\n",
            "   macro avg       0.70      0.63      0.65      3000\n",
            "weighted avg       0.78      0.81      0.79      3000\n",
            "\n",
            "<sklearn.metrics._plot.confusion_matrix.ConfusionMatrixDisplay object at 0x7f9d6bdd02b0>\n"
          ]
        },
        {
          "output_type": "display_data",
          "data": {
            "text/plain": [
              "<Figure size 432x288 with 2 Axes>"
            ],
            "image/png": "[encoded data removed]"
          },
          "metadata": {
            "needs_background": "light"
          }
        },
        {
          "output_type": "display_data",
          "data": {
            "text/plain": [
              "<Figure size 432x288 with 2 Axes>"
            ],
            "image/png": "[encoded data removed]"
          },
          "metadata": {
            "needs_background": "light"
          }
        },
        {
          "output_type": "display_data",
          "data": {
            "text/plain": [
              "<Figure size 432x288 with 2 Axes>"
            ],
            "image/png": "[encoded data removed]"
          },
          "metadata": {
            "needs_background": "light"
          }
        }
      ]
    }
  ]
}